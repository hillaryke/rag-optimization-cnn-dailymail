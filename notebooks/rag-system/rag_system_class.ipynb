{
 "cells": [
  {
   "cell_type": "code",
   "execution_count": 1,
   "metadata": {},
   "outputs": [],
   "source": [
    "import os\n",
    "os.chdir(\"../\")\n",
    "import pandas as pd\n",
    "\n",
    "from typing import List, Dict\n",
    "from dotenv import load_dotenv\n",
    "from langchain_openai import OpenAIEmbeddings, ChatOpenAI\n",
    "from langchain_chroma import Chroma\n",
    "from langchain.text_splitter import RecursiveCharacterTextSplitter\n",
    "from langchain.chains import RetrievalQA"
   ]
  },
  {
   "cell_type": "code",
   "execution_count": 11,
   "metadata": {},
   "outputs": [],
   "source": [
    "\n",
    "def load_documents_from_csv(\n",
    "  file_path: str = \"data/cnn_dailymail_validation_subset.csv\", \n",
    "  page_content_column: str = \"article\"\n",
    ") -> List[str]:\n",
    "    df = pd.read_csv(file_path)\n",
    "    return df[page_content_column].tolist()\n",
    "\n",
    "CHROMA_PATH = \"chromadb\"\n",
    "\n",
    "class RAGSystem:\n",
    "    def __init__(self, \n",
    "                 model_name: str, \n",
    "                 source_file_path: \n",
    "                  str = \"data/cnn_dailymail_validation_subset.csv\",\n",
    "                  existing_chroma: str = False\n",
    "    ):\n",
    "        self.model_name = model_name\n",
    "        self.llm = None\n",
    "        self.source_file_path = source_file_path\n",
    "        self.documents = []\n",
    "        self.embeddings = OpenAIEmbeddings()\n",
    "        self.vectorstore = None\n",
    "        self.rag_chain = None\n",
    "        self.existing_chroma = existing_chroma\n",
    "\n",
    "    def load_documents(self, file_path: str = None):\n",
    "        documents = load_documents_from_csv(self.source_file_path)\n",
    "        self.documents = documents\n",
    "        \n",
    "    def prepare_documents(self, chunk_size: int = 1000, chunk_overlap: int = 200):\n",
    "        text_splitter = RecursiveCharacterTextSplitter(chunk_size=chunk_size, chunk_overlap=chunk_overlap)\n",
    "        return text_splitter.create_documents(self.documents)\n",
    "\n",
    "    def setup_vectorstore(self, split_docs: List[str] = None):\n",
    "        if split_docs is None:\n",
    "            # Load an existing Chroma instance\n",
    "            self.vectorstore = Chroma(persist_directory=CHROMA_PATH, embedding_function=self.embeddings)\n",
    "            \n",
    "        else:\n",
    "          # Create a new Chroma instance\n",
    "          self.vectorstore = Chroma.from_documents(split_docs, embedding=self.embeddings, persist_directory=CHROMA_PATH)\n",
    "\n",
    "    def setup_llm(self):\n",
    "        llm = ChatOpenAI(model_name=self.model_name, temperature=0)\n",
    "        self.llm = llm\n",
    "        return llm\n",
    "\n",
    "    def setup_rag_chain(self):\n",
    "        retriever = self.vectorstore.as_retriever(search_kwargs={\"k\": 3})\n",
    "        llm = self.setup_llm()\n",
    "        self.rag_chain = RetrievalQA.from_chain_type(\n",
    "            llm=llm,\n",
    "            chain_type=\"stuff\",\n",
    "            retriever=retriever,\n",
    "            return_source_documents=True\n",
    "        )\n",
    "\n",
    "    def query(self, question: str) -> str:\n",
    "        result = self.rag_chain.invoke(question)\n",
    "        return result[\"result\"]\n",
    "\n",
    "    def initialize(self):\n",
    "        self.load_documents()\n",
    "        if not self.existing_chroma:\n",
    "            split_docs = self.prepare_documents()\n",
    "            self.setup_vectorstore(split_docs)\n",
    "        else:\n",
    "            self.setup_vectorstore()\n",
    "        self.setup_rag_chain()\n"
   ]
  },
  {
   "cell_type": "code",
   "execution_count": 12,
   "metadata": {},
   "outputs": [],
   "source": [
    "rag_system = RAGSystem(model_name=\"gpt-3.5-turbo\", existing_chroma=False)"
   ]
  },
  {
   "cell_type": "code",
   "execution_count": 13,
   "metadata": {},
   "outputs": [
    {
     "ename": "AttributeError",
     "evalue": "'NoneType' object has no attribute 'invoke'",
     "output_type": "error",
     "traceback": [
      "\u001b[0;31m---------------------------------------------------------------------------\u001b[0m",
      "\u001b[0;31mAttributeError\u001b[0m                            Traceback (most recent call last)",
      "Cell \u001b[0;32mIn[13], line 1\u001b[0m\n\u001b[0;32m----> 1\u001b[0m \u001b[43mrag_system\u001b[49m\u001b[38;5;241;43m.\u001b[39;49m\u001b[43mquery\u001b[49m\u001b[43m(\u001b[49m\u001b[38;5;124;43m\"\u001b[39;49m\u001b[38;5;124;43mWhat is the capital of France?\u001b[39;49m\u001b[38;5;124;43m\"\u001b[39;49m\u001b[43m)\u001b[49m\n",
      "Cell \u001b[0;32mIn[11], line 59\u001b[0m, in \u001b[0;36mRAGSystem.query\u001b[0;34m(self, question)\u001b[0m\n\u001b[1;32m     58\u001b[0m \u001b[38;5;28;01mdef\u001b[39;00m \u001b[38;5;21mquery\u001b[39m(\u001b[38;5;28mself\u001b[39m, question: \u001b[38;5;28mstr\u001b[39m) \u001b[38;5;241m-\u001b[39m\u001b[38;5;241m>\u001b[39m \u001b[38;5;28mstr\u001b[39m:\n\u001b[0;32m---> 59\u001b[0m     result \u001b[38;5;241m=\u001b[39m \u001b[38;5;28;43mself\u001b[39;49m\u001b[38;5;241;43m.\u001b[39;49m\u001b[43mrag_chain\u001b[49m\u001b[38;5;241;43m.\u001b[39;49m\u001b[43minvoke\u001b[49m(question)\n\u001b[1;32m     60\u001b[0m     \u001b[38;5;28;01mreturn\u001b[39;00m result[\u001b[38;5;124m\"\u001b[39m\u001b[38;5;124mresult\u001b[39m\u001b[38;5;124m\"\u001b[39m]\n",
      "\u001b[0;31mAttributeError\u001b[0m: 'NoneType' object has no attribute 'invoke'"
     ]
    }
   ],
   "source": [
    "rag_system.query(\"What is the capital of France?\")"
   ]
  },
  {
   "cell_type": "code",
   "execution_count": null,
   "metadata": {},
   "outputs": [],
   "source": []
  }
 ],
 "metadata": {
  "kernelspec": {
   "display_name": "rag-optimization-cnn-dailymail-hiPg4Kip-py3.10",
   "language": "python",
   "name": "python3"
  },
  "language_info": {
   "codemirror_mode": {
    "name": "ipython",
    "version": 3
   },
   "file_extension": ".py",
   "mimetype": "text/x-python",
   "name": "python",
   "nbconvert_exporter": "python",
   "pygments_lexer": "ipython3",
   "version": "3.10.12"
  }
 },
 "nbformat": 4,
 "nbformat_minor": 2
}
