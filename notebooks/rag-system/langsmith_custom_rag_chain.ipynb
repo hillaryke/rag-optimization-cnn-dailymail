{
 "cells": [
  {
   "cell_type": "code",
   "execution_count": 1,
   "metadata": {},
   "outputs": [],
   "source": [
    "from langchain_core.prompts import PromptTemplate\n",
    "from langchain_core.runnables import RunnablePassthrough, RunnableParallel\n",
    "from langchain.schema import StrOutputParser\n",
    "from langchain_core.runnables import RunnableLambda\n",
    "from langchain_openai import OpenAIEmbeddings, ChatOpenAI\n",
    "from langchain_chroma import Chroma"
   ]
  },
  {
   "cell_type": "code",
   "execution_count": 2,
   "metadata": {},
   "outputs": [],
   "source": [
    "import os\n",
    "os.chdir(\"../../\")"
   ]
  },
  {
   "cell_type": "code",
   "execution_count": 3,
   "metadata": {},
   "outputs": [],
   "source": [
    "embeddings = OpenAIEmbeddings()\n",
    "vectorstore = Chroma(persist_directory=\"chroma\", embedding_function=embeddings)\n",
    "\n",
    "# Create retriever\n",
    "retriever = vectorstore.as_retriever(search_kwargs={\"k\": 3})"
   ]
  },
  {
   "cell_type": "code",
   "execution_count": 4,
   "metadata": {},
   "outputs": [
    {
     "data": {
      "text/plain": [
       "[Document(page_content='(The Hollywood Reporter)The skies over Gotham City might become bright once again in 2016, with Adam West and Burt Ward promising a return to their career-high roles of Batman and Robin as part of an upcoming animated project next year. The comments took place at the Mad Monster Party in Charlotte, NC this weekend, with Ward somewhat uncertainly telling the crowd that they \"can look forward to a new animated \"Batman\" full length, 90-minute feature, coming out on the 50th anniversary.\" (That would be the 50th anniversary of the 1960s Batman TV series, which launched Jan. 12, 1966.) Why more'),\n",
       " Document(page_content='be the 50th anniversary of the 1960s Batman TV series, which launched Jan. 12, 1966.) Why more \\'Star Wars\\' actors haven\\'t become stars . The animated movie is described by Ward as \"one of possibly two, but for sure one, that Adam and I are going to be doing the voices for,\" although he didn\\'t say anything else about the project. In fact, as video from the event shows below, he seemed unclear about whether he should talk about it at all, prefacing his comments with \"I don\\'t know... whether we can talk about the new Batman movie...\" (Adam West declares they can, in a suitably Batman-esque'),\n",
       " Document(page_content='DVD and Blu-ray. Batman through the years . Warner Bros. declined to comment about a potential 50th anniversary animated project when contacted by THR. ©2015 The Hollywood Reporter. All rights reserved.')]"
      ]
     },
     "execution_count": 4,
     "metadata": {},
     "output_type": "execute_result"
    }
   ],
   "source": [
    "retriever.invoke(\"What animated project did Adam West and Burt Ward announce at the Mad Monster Party in Charlotte, NC?\")"
   ]
  },
  {
   "cell_type": "code",
   "execution_count": 6,
   "metadata": {},
   "outputs": [],
   "source": [
    "template = \"\"\"Use the following pieces of context to answer the question at the end.\n",
    "If you don't know the answer, just say that you don't know, don't try to make up an answer.\n",
    "Use three sentences maximum and keep the answer as concise as possible.\n",
    "\n",
    "Context: {context}\n",
    "\n",
    "Question: {question}\n",
    "\n",
    "Helpful Answer:\"\"\"\n",
    "\n",
    "custom_template = PromptTemplate.from_template(template)"
   ]
  },
  {
   "cell_type": "code",
   "execution_count": 13,
   "metadata": {},
   "outputs": [],
   "source": [
    "# Initialize language model\n",
    "llm = ChatOpenAI(model_name=\"gpt-3.5-turbo\", temperature=0)"
   ]
  },
  {
   "cell_type": "code",
   "execution_count": 14,
   "metadata": {},
   "outputs": [],
   "source": [
    "\n",
    "def format_docs(docs):\n",
    "    return \"\\n\\n\".join(doc.page_content for doc in docs)\n",
    "\n",
    "def ragas_output_parser(docs):\n",
    "    return [doc.page_content for doc in docs]\n",
    "\n",
    "def rag_chain_setup(retriever, llm):\n",
    "    generator = custom_template | llm | StrOutputParser()\n",
    "\n",
    "    context_retriever = RunnableParallel(\n",
    "        {\n",
    "            \"context\": retriever | format_docs,\n",
    "            \"question\": RunnablePassthrough(),\n",
    "        }\n",
    "    )\n",
    "\n",
    "    filter_langsmith_dataset = RunnableLambda(\n",
    "        lambda x: x[\"question\"] if isinstance(x, dict) else x\n",
    "    )\n",
    "\n",
    "    rag_chain = RunnableParallel(\n",
    "        {\n",
    "            \"question\": filter_langsmith_dataset,\n",
    "            \"answer\": filter_langsmith_dataset | context_retriever | generator,\n",
    "            \"contexts\": filter_langsmith_dataset\n",
    "            | retriever\n",
    "            | ragas_output_parser,\n",
    "        }\n",
    "    )\n",
    "    return rag_chain"
   ]
  },
  {
   "cell_type": "code",
   "execution_count": 15,
   "metadata": {},
   "outputs": [],
   "source": [
    "rag_chain = rag_chain_setup(retriever, llm)"
   ]
  },
  {
   "cell_type": "code",
   "execution_count": 16,
   "metadata": {},
   "outputs": [],
   "source": [
    "q = \"What animated project did Adam West and Burt Ward announce at the Mad Monster Party in Charlotte, NC?\"\n",
    "res = rag_chain.invoke(q)"
   ]
  },
  {
   "cell_type": "code",
   "execution_count": 17,
   "metadata": {},
   "outputs": [
    {
     "data": {
      "text/plain": [
       "{'question': 'What animated project did Adam West and Burt Ward announce at the Mad Monster Party in Charlotte, NC?',\n",
       " 'answer': 'Adam West and Burt Ward announced a new animated \"Batman\" full-length, 90-minute feature coming out on the 50th anniversary of the 1960s Batman TV series.',\n",
       " 'contexts': ['(The Hollywood Reporter)The skies over Gotham City might become bright once again in 2016, with Adam West and Burt Ward promising a return to their career-high roles of Batman and Robin as part of an upcoming animated project next year. The comments took place at the Mad Monster Party in Charlotte, NC this weekend, with Ward somewhat uncertainly telling the crowd that they \"can look forward to a new animated \"Batman\" full length, 90-minute feature, coming out on the 50th anniversary.\" (That would be the 50th anniversary of the 1960s Batman TV series, which launched Jan. 12, 1966.) Why more',\n",
       "  'be the 50th anniversary of the 1960s Batman TV series, which launched Jan. 12, 1966.) Why more \\'Star Wars\\' actors haven\\'t become stars . The animated movie is described by Ward as \"one of possibly two, but for sure one, that Adam and I are going to be doing the voices for,\" although he didn\\'t say anything else about the project. In fact, as video from the event shows below, he seemed unclear about whether he should talk about it at all, prefacing his comments with \"I don\\'t know... whether we can talk about the new Batman movie...\" (Adam West declares they can, in a suitably Batman-esque',\n",
       "  'DVD and Blu-ray. Batman through the years . Warner Bros. declined to comment about a potential 50th anniversary animated project when contacted by THR. ©2015 The Hollywood Reporter. All rights reserved.']}"
      ]
     },
     "execution_count": 17,
     "metadata": {},
     "output_type": "execute_result"
    }
   ],
   "source": [
    "res"
   ]
  },
  {
   "cell_type": "code",
   "execution_count": null,
   "metadata": {},
   "outputs": [],
   "source": [
    "from ragas.integrations.langchain import EvaluatorChain\n",
    "from ragas.integrations.langsmith import evaluate\n",
    "\n",
    "# the metric for evaluation\n",
    "from ragas.metrics import (\n",
    "    answer_correctness,\n",
    "    faithfulness,\n",
    "    answer_relevancy,\n",
    "    context_precision,\n",
    ")\n",
    "# Dataset that was uploaded in LangSmith \n",
    "dataset_name = \"cnn_dailymail_testset\"\n",
    "\n",
    "# evaluate just llms\n",
    "run = evaluate(\n",
    "    dataset_name=dataset_name,\n",
    "    llm_or_chain_factory=rag_chain,\n",
    "    experiment_name=\"basic_rag\",\n",
    "    metrics=[\n",
    "        answer_correctness,\n",
    "        faithfulness,\n",
    "        answer_relevancy,\n",
    "        context_precision,\n",
    "    ],\n",
    "    verbose=True,\n",
    ")"
   ]
  },
  {
   "cell_type": "markdown",
   "metadata": {},
   "source": [
    "### Get an example from Langsmith"
   ]
  },
  {
   "cell_type": "code",
   "execution_count": 11,
   "metadata": {},
   "outputs": [
    {
     "data": {
      "text/plain": [
       "{'question': 'What animated project did Adam West and Burt Ward announce at the Mad Monster Party in Charlotte, NC?'}"
      ]
     },
     "execution_count": 11,
     "metadata": {},
     "output_type": "execute_result"
    }
   ],
   "source": [
    "# get one example question for the dataset for testing\n",
    "from langsmith import Client\n",
    "\n",
    "client = Client()\n",
    "examples = list(client.list_examples(dataset_name=dataset_name, limit=1))\n",
    "\n",
    "q = examples[0].inputs\n",
    "q\n"
   ]
  },
  {
   "cell_type": "markdown",
   "metadata": {},
   "source": [
    "### Test the rag chain with the langsmith example"
   ]
  },
  {
   "cell_type": "code",
   "execution_count": 12,
   "metadata": {},
   "outputs": [
    {
     "data": {
      "text/plain": [
       "\"I don't know.\""
      ]
     },
     "execution_count": 12,
     "metadata": {},
     "output_type": "execute_result"
    }
   ],
   "source": [
    "# check with the example question to see if everything is working\n",
    "get_answer = RunnableLambda(lambda x: x[\"answer\"])\n",
    "resp = (rag_chain | get_answer).invoke(q)\n",
    "resp"
   ]
  },
  {
   "cell_type": "code",
   "execution_count": null,
   "metadata": {},
   "outputs": [],
   "source": []
  }
 ],
 "metadata": {
  "kernelspec": {
   "display_name": "rag-optimization-cnn-dailymail-hiPg4Kip-py3.10",
   "language": "python",
   "name": "python3"
  },
  "language_info": {
   "codemirror_mode": {
    "name": "ipython",
    "version": 3
   },
   "file_extension": ".py",
   "mimetype": "text/x-python",
   "name": "python",
   "nbconvert_exporter": "python",
   "pygments_lexer": "ipython3",
   "version": "3.10.12"
  }
 },
 "nbformat": 4,
 "nbformat_minor": 2
}
