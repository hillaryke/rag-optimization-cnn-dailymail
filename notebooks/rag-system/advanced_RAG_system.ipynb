{
 "cells": [
  {
   "cell_type": "markdown",
   "metadata": {},
   "source": [
    "### Import modules"
   ]
  },
  {
   "cell_type": "code",
   "execution_count": 1,
   "metadata": {},
   "outputs": [],
   "source": [
    "import os\n",
    "import pandas as pd\n",
    "\n",
    "os.chdir(\"../../\")\n",
    "\n",
    "from datasets import load_dataset\n",
    "from langchain_openai import OpenAIEmbeddings, ChatOpenAI\n",
    "from langchain.vectorstores import Chroma\n",
    "from langchain.chains import RetrievalQA\n",
    "from langchain_community.document_loaders import HuggingFaceDatasetLoader\n",
    "from langchain.embeddings import HuggingFaceEmbeddings\n",
    "from dotenv import load_dotenv"
   ]
  },
  {
   "cell_type": "code",
   "execution_count": 2,
   "metadata": {},
   "outputs": [],
   "source": [
    "from src.rag_pipeline import chunk_by_recursive_split, RAGSystem\n",
    "from src.env_loader import load_api_keys\n",
    "from src.ragas.ragas_pipeline import run_ragas_evaluation\n",
    "from src import display_df"
   ]
  },
  {
   "cell_type": "markdown",
   "metadata": {},
   "source": [
    "### Load API keys"
   ]
  },
  {
   "cell_type": "code",
   "execution_count": 3,
   "metadata": {},
   "outputs": [],
   "source": [
    "openai_api_key = load_api_keys(\"OPENAI_API_KEY\")"
   ]
  },
  {
   "cell_type": "markdown",
   "metadata": {},
   "source": [
    "#### Initialize embeddings and RAG system"
   ]
  },
  {
   "cell_type": "code",
   "execution_count": 4,
   "metadata": {},
   "outputs": [],
   "source": [
    "# embeddings=HuggingFaceEmbeddings(model_name='sentence-transformers/all-MiniLM-L6-v2')\n",
    "embeddings = OpenAIEmbeddings(api_key=openai_api_key, model='text-embedding-ada-002')"
   ]
  },
  {
   "cell_type": "code",
   "execution_count": 5,
   "metadata": {},
   "outputs": [],
   "source": [
    "rag_system = RAGSystem(\n",
    "  model_name = \"gpt-4o\",\n",
    "  existing_vectorstore = False,\n",
    "  embeddings = embeddings,\n",
    "  clear_store = True\n",
    ")"
   ]
  },
  {
   "cell_type": "code",
   "execution_count": 6,
   "metadata": {},
   "outputs": [
    {
     "name": "stdout",
     "output_type": "stream",
     "text": [
      "--Split 1000 documents into 5030 chunks.--\n"
     ]
    }
   ],
   "source": [
    "rag_system.initialize()"
   ]
  },
  {
   "cell_type": "markdown",
   "metadata": {},
   "source": [
    "#### Test the RAG Chain"
   ]
  },
  {
   "cell_type": "code",
   "execution_count": 7,
   "metadata": {},
   "outputs": [],
   "source": [
    "question = \"What event is Rory McIlroy preparing for after the WGC-Cadillac Championship?\"\n",
    "result = rag_system.rag_chain.invoke(question)"
   ]
  },
  {
   "cell_type": "code",
   "execution_count": 8,
   "metadata": {},
   "outputs": [
    {
     "data": {
      "text/plain": [
       "{'question': 'What event is Rory McIlroy preparing for after the WGC-Cadillac Championship?',\n",
       " 'answer': \"Rory McIlroy is preparing for Arnold Palmer's tournament, which takes place from March 19-22.\",\n",
       " 'contexts': ['(CNN)Jordan Spieth has Rory McIlroy and the world No.1 spot firmly in his sights after winning the Valspar Championship on Sunday. Spieth won a three-way play-off with a 28-foot birdie on the third extra hole to become only the fourth player since 1940 to win twice on the PGA Tour before turning 22. It is a feat that not even McIlroy mastered with Tiger Woods, Sergio Garcia and Robert Gamez the only players to have achieved that particular accolade in the past 75 years. But it is the Northern Irishman that is within Spieth\\'s focus heading towards Augusta. \"I like studying the game, being a historian of the game,\" Spieth told the PGA Tour website. \"It\\'s really cool to have my name go alongside those. \"But right now currently what I\\'m really focused on is Rory McIlroy and the No.1 in the world. That\\'s who everyone is trying to chase. \"That\\'s our ultimate goal to eventually be the best in the world and this is a great, great stepping stone. But going into the four majors of the year, to',\n",
       "  'was good fun.\" Not that opportunity knocked for McIlroy when he chose the 3-iron to play his third shot to the 18th and final hole of the tournament and promptly found the water again. The Northern Irishman feigned to repeat his earlier antics, before placing it back in the bag. His mistake led to a double bogey six and left him tied for ninth at one-under-par, eight shots behind winner Dustin Johnson. McIlroy had promised to return the club to Trump after the round and was as good as his word. \"We\\'re thinking about auctioning it for charity or doing a trophy case for Doral, putting it on a beautiful mount,\" Trump said. Johnson is looking set to be one of McIlroy\\'s main rivals in the first major of the season, the U.S. Masters at Augusta, next month and his victory completed a triumphant comeback to the PGA Tour. The 30-year-old American took a six-month break from the Tour last July to cope with \"personal problems\" and returned earlier this year. Johnson finished with a three-under',\n",
       "  'It raises money for two Florida hospitals named for the seven-time major winner and his late wife Winnie. \"I am so proud of what has been accomplished at the hospitals over the past 25 years. It is always a privilege to know that we are making a difference in the lives of families throughout the community,\" said Palmer after his medical center was named one of the best for children in the U.S. for 2014-15. He hurt his shoulder in December after tripping on carpet when he was about to make a speech at a PGA Tour father/son event. World No. 1 Rory McIlroy will make his first appearance at Palmer\\'s March 19-22 tournament, which features a restricted field, while top-five players Bubba Watson, Henrik Stenson, Adam Scott and Jason Day will also take part. Like us on Facebook .',\n",
       "  '(CNN)It was an act of frustration perhaps more commonly associated with golf\\'s fictional anti-hero Happy Gilmore than the world\\'s reigning No 1. player. But when Rory McIlroy pulled his second shot on the eighth hole of the WGC Cadillac Championship into a lake Friday, he might as well have been channeling the much loved Adam Sandler character. Before continuing his round with a dropped ball, the four-time major winner launched the 3-iron used to play the offending shot into the water as well. \"(It) felt good at the time,\" a rueful McIlroy later said of the incident in comments carried by the PGA Tour website. \"I just let frustration get the better of me. It was heat of the moment, and I mean, if it had of been any other club I probably wouldn\\'t have but I didn\\'t need a 3‑iron for the rest of the round so I thought, why not.\" The club \"must have went a good 60, 70 yards,\" he joked. McIlroy composed himself to finish with a second round of 70, leaving him one-under for the tournament',\n",
       "  'That\\'s who everyone is trying to chase. \"That\\'s our ultimate goal to eventually be the best in the world and this is a great, great stepping stone. But going into the four majors of the year, to have closed one out in this kind of fashion is going to give me a lot of confidence.\" Spieth has long been heralded as the next big thing in golf -- shining in the amateur ranks with two U.S. junior titles and leading last year\\'s Masters after the third round before eventually finishing tied for second, three shots behind Bubba Watson. On Sunday, he held his nerve at the Innisbrook Resort in Palm Harbor, Florida, to hold on for the victory. He first rescued par on the 16th with a 60-foot bunker shot and needed a 32-foot putt to ensure his place in the playoff, which he duly holed. It was a putt of similar length that ensured a second Tour win to add to his John Deere Classic success in July 2013, which he also won courtesy of a playoff making him the youngest PGA Tour winner for 82 years at']}"
      ]
     },
     "execution_count": 8,
     "metadata": {},
     "output_type": "execute_result"
    }
   ],
   "source": [
    "result"
   ]
  },
  {
   "cell_type": "markdown",
   "metadata": {},
   "source": [
    "#### Initialize RAG system with ensemble_retriever with BM25 retriever"
   ]
  },
  {
   "cell_type": "code",
   "execution_count": 12,
   "metadata": {},
   "outputs": [],
   "source": [
    "rag_system_ensemble = RAGSystem(\n",
    "  model_name = \"gpt-4o\",\n",
    "  existing_vectorstore = False,\n",
    "  use_ensemble_retriever = True,\n",
    "  embeddings=embeddings\n",
    ")"
   ]
  },
  {
   "cell_type": "code",
   "execution_count": 13,
   "metadata": {},
   "outputs": [
    {
     "name": "stdout",
     "output_type": "stream",
     "text": [
      "--Split 1000 documents into 5030 chunks.--\n"
     ]
    }
   ],
   "source": [
    "rag_system_ensemble.initialize()"
   ]
  },
  {
   "cell_type": "code",
   "execution_count": 14,
   "metadata": {},
   "outputs": [],
   "source": [
    "question = \"What event is Rory McIlroy preparing for after the WGC-Cadillac Championship?\"\n",
    "result = rag_system_ensemble.rag_chain.invoke(question)"
   ]
  },
  {
   "cell_type": "code",
   "execution_count": 15,
   "metadata": {},
   "outputs": [
    {
     "data": {
      "text/plain": [
       "{'question': 'What event is Rory McIlroy preparing for after the WGC-Cadillac Championship?',\n",
       " 'answer': 'Rory McIlroy is preparing for the U.S. Masters at Augusta after the WGC-Cadillac Championship.',\n",
       " 'contexts': ['(CNN)Jordan Spieth has Rory McIlroy and the world No.1 spot firmly in his sights after winning the Valspar Championship on Sunday. Spieth won a three-way play-off with a 28-foot birdie on the third extra hole to become only the fourth player since 1940 to win twice on the PGA Tour before turning 22. It is a feat that not even McIlroy mastered with Tiger Woods, Sergio Garcia and Robert Gamez the only players to have achieved that particular accolade in the past 75 years. But it is the Northern Irishman that is within Spieth\\'s focus heading towards Augusta. \"I like studying the game, being a historian of the game,\" Spieth told the PGA Tour website. \"It\\'s really cool to have my name go alongside those. \"But right now currently what I\\'m really focused on is Rory McIlroy and the No.1 in the world. That\\'s who everyone is trying to chase. \"That\\'s our ultimate goal to eventually be the best in the world and this is a great, great stepping stone. But going into the four majors of the year, to',\n",
       "  'was good fun.\" Not that opportunity knocked for McIlroy when he chose the 3-iron to play his third shot to the 18th and final hole of the tournament and promptly found the water again. The Northern Irishman feigned to repeat his earlier antics, before placing it back in the bag. His mistake led to a double bogey six and left him tied for ninth at one-under-par, eight shots behind winner Dustin Johnson. McIlroy had promised to return the club to Trump after the round and was as good as his word. \"We\\'re thinking about auctioning it for charity or doing a trophy case for Doral, putting it on a beautiful mount,\" Trump said. Johnson is looking set to be one of McIlroy\\'s main rivals in the first major of the season, the U.S. Masters at Augusta, next month and his victory completed a triumphant comeback to the PGA Tour. The 30-year-old American took a six-month break from the Tour last July to cope with \"personal problems\" and returned earlier this year. Johnson finished with a three-under',\n",
       "  'It raises money for two Florida hospitals named for the seven-time major winner and his late wife Winnie. \"I am so proud of what has been accomplished at the hospitals over the past 25 years. It is always a privilege to know that we are making a difference in the lives of families throughout the community,\" said Palmer after his medical center was named one of the best for children in the U.S. for 2014-15. He hurt his shoulder in December after tripping on carpet when he was about to make a speech at a PGA Tour father/son event. World No. 1 Rory McIlroy will make his first appearance at Palmer\\'s March 19-22 tournament, which features a restricted field, while top-five players Bubba Watson, Henrik Stenson, Adam Scott and Jason Day will also take part. Like us on Facebook .',\n",
       "  '(CNN)With a little bit of help from Donald Trump, Rory McIlroy was re-united with the golf club he famously threw into the lake at Doral -- but probably wished the golf-loving tycoon had not bothered. Never one to miss a media opportunity, Trump, the owner of the Blue Monster course in Florida, got a scuba diver to retrieve the 3-iron club which world No. 1 McIlroy had thought he had seen the last of during Friday\\'s second round at the WGC-Cadillac Championship. The 68-year-old American entrepreneur presented it to McIlroy before his final round Sunday, telling him that it was unlucky to continue playing with 13 clubs as against the usual 14 allowed under golf\\'s rules. \"He\\'s never one to miss an opportunity,\" McIlroy told the official PGA Tour website after his round. \"It was fine. It was good fun.\" Not that opportunity knocked for McIlroy when he chose the 3-iron to play his third shot to the 18th and final hole of the tournament and promptly found the water again. The Northern',\n",
       "  '(CNN)It was an act of frustration perhaps more commonly associated with golf\\'s fictional anti-hero Happy Gilmore than the world\\'s reigning No 1. player. But when Rory McIlroy pulled his second shot on the eighth hole of the WGC Cadillac Championship into a lake Friday, he might as well have been channeling the much loved Adam Sandler character. Before continuing his round with a dropped ball, the four-time major winner launched the 3-iron used to play the offending shot into the water as well. \"(It) felt good at the time,\" a rueful McIlroy later said of the incident in comments carried by the PGA Tour website. \"I just let frustration get the better of me. It was heat of the moment, and I mean, if it had of been any other club I probably wouldn\\'t have but I didn\\'t need a 3‑iron for the rest of the round so I thought, why not.\" The club \"must have went a good 60, 70 yards,\" he joked. McIlroy composed himself to finish with a second round of 70, leaving him one-under for the tournament']}"
      ]
     },
     "execution_count": 15,
     "metadata": {},
     "output_type": "execute_result"
    }
   ],
   "source": [
    "result"
   ]
  },
  {
   "cell_type": "markdown",
   "metadata": {},
   "source": [
    "## RAGAS Pipeline testing the rag_chain"
   ]
  },
  {
   "cell_type": "code",
   "execution_count": 8,
   "metadata": {},
   "outputs": [
    {
     "name": "stdout",
     "output_type": "stream",
     "text": [
      "--LOADING EVALUATION DATA--\n",
      "--GETTING CONTEXT AND ANSWERS--\n",
      "--EVALUATING LOCALLY--\n"
     ]
    },
    {
     "data": {
      "application/vnd.jupyter.widget-view+json": {
       "model_id": "6290227f0e104a388f4245e666b32b68",
       "version_major": 2,
       "version_minor": 0
      },
      "text/plain": [
       "Evaluating:   0%|          | 0/20 [00:00<?, ?it/s]"
      ]
     },
     "metadata": {},
     "output_type": "display_data"
    },
    {
     "name": "stdout",
     "output_type": "stream",
     "text": [
      "--EVALUATION COMPLETE--\n"
     ]
    }
   ],
   "source": [
    "basic_rag_results = run_ragas_evaluation(rag_system.rag_chain)"
   ]
  },
  {
   "cell_type": "code",
   "execution_count": 9,
   "metadata": {},
   "outputs": [
    {
     "data": {
      "text/html": [
       "<div>\n",
       "<style scoped>\n",
       "    .dataframe tbody tr th:only-of-type {\n",
       "        vertical-align: middle;\n",
       "    }\n",
       "\n",
       "    .dataframe tbody tr th {\n",
       "        vertical-align: top;\n",
       "    }\n",
       "\n",
       "    .dataframe thead th {\n",
       "        text-align: right;\n",
       "    }\n",
       "</style>\n",
       "<table border=\"1\" class=\"dataframe\">\n",
       "  <thead>\n",
       "    <tr style=\"text-align: right;\">\n",
       "      <th></th>\n",
       "      <th>question</th>\n",
       "      <th>contexts</th>\n",
       "      <th>answer</th>\n",
       "      <th>ground_truth</th>\n",
       "      <th>answer_correctness</th>\n",
       "      <th>faithfulness</th>\n",
       "      <th>answer_relevancy</th>\n",
       "      <th>context_precision</th>\n",
       "    </tr>\n",
       "  </thead>\n",
       "  <tbody>\n",
       "    <tr>\n",
       "      <th>0</th>\n",
       "      <td>What upcoming animated project will feature Ad...</td>\n",
       "      <td>[(The Hollywood Reporter)The skies over Gotham...</td>\n",
       "      <td>The upcoming animated project that will featur...</td>\n",
       "      <td>Adam West and Burt Ward will be reprising thei...</td>\n",
       "      <td>0.745731</td>\n",
       "      <td>0.666667</td>\n",
       "      <td>0.000000</td>\n",
       "      <td>0.916667</td>\n",
       "    </tr>\n",
       "    <tr>\n",
       "      <th>1</th>\n",
       "      <td>What animated project did Adam West and Burt W...</td>\n",
       "      <td>[(The Hollywood Reporter)The skies over Gotham...</td>\n",
       "      <td>Adam West and Burt Ward announced an upcoming ...</td>\n",
       "      <td>Adam West and Burt Ward announced a new animat...</td>\n",
       "      <td>0.882117</td>\n",
       "      <td>0.666667</td>\n",
       "      <td>0.000000</td>\n",
       "      <td>1.000000</td>\n",
       "    </tr>\n",
       "    <tr>\n",
       "      <th>2</th>\n",
       "      <td>What event is Rory McIlroy preparing for after...</td>\n",
       "      <td>[(CNN)Jordan Spieth has Rory McIlroy and the w...</td>\n",
       "      <td>Rory McIlroy is preparing for Arnold Palmer's ...</td>\n",
       "      <td>Rory McIlroy is preparing for the U.S. Masters...</td>\n",
       "      <td>0.233292</td>\n",
       "      <td>0.000000</td>\n",
       "      <td>0.867013</td>\n",
       "      <td>0.916667</td>\n",
       "    </tr>\n",
       "    <tr>\n",
       "      <th>3</th>\n",
       "      <td>How did Donald Trump help Rory McIlroy retriev...</td>\n",
       "      <td>[(CNN)With a little bit of help from Donald Tr...</td>\n",
       "      <td>Donald Trump got a scuba diver to retrieve Ror...</td>\n",
       "      <td>Donald Trump helped Rory McIlroy retrieve his ...</td>\n",
       "      <td>0.453221</td>\n",
       "      <td>1.000000</td>\n",
       "      <td>0.907409</td>\n",
       "      <td>1.000000</td>\n",
       "    </tr>\n",
       "    <tr>\n",
       "      <th>4</th>\n",
       "      <td>What caused the collapse of the Iraqi army dur...</td>\n",
       "      <td>[militia into army units. At the same time, th...</td>\n",
       "      <td>The collapse of the Iraqi army during the ISIS...</td>\n",
       "      <td>The collapse of the Iraqi army during the ISIS...</td>\n",
       "      <td>0.577018</td>\n",
       "      <td>1.000000</td>\n",
       "      <td>1.000000</td>\n",
       "      <td>1.000000</td>\n",
       "    </tr>\n",
       "  </tbody>\n",
       "</table>\n",
       "</div>"
      ],
      "text/plain": [
       "                                            question  \\\n",
       "0  What upcoming animated project will feature Ad...   \n",
       "1  What animated project did Adam West and Burt W...   \n",
       "2  What event is Rory McIlroy preparing for after...   \n",
       "3  How did Donald Trump help Rory McIlroy retriev...   \n",
       "4  What caused the collapse of the Iraqi army dur...   \n",
       "\n",
       "                                            contexts  \\\n",
       "0  [(The Hollywood Reporter)The skies over Gotham...   \n",
       "1  [(The Hollywood Reporter)The skies over Gotham...   \n",
       "2  [(CNN)Jordan Spieth has Rory McIlroy and the w...   \n",
       "3  [(CNN)With a little bit of help from Donald Tr...   \n",
       "4  [militia into army units. At the same time, th...   \n",
       "\n",
       "                                              answer  \\\n",
       "0  The upcoming animated project that will featur...   \n",
       "1  Adam West and Burt Ward announced an upcoming ...   \n",
       "2  Rory McIlroy is preparing for Arnold Palmer's ...   \n",
       "3  Donald Trump got a scuba diver to retrieve Ror...   \n",
       "4  The collapse of the Iraqi army during the ISIS...   \n",
       "\n",
       "                                        ground_truth  answer_correctness  \\\n",
       "0  Adam West and Burt Ward will be reprising thei...            0.745731   \n",
       "1  Adam West and Burt Ward announced a new animat...            0.882117   \n",
       "2  Rory McIlroy is preparing for the U.S. Masters...            0.233292   \n",
       "3  Donald Trump helped Rory McIlroy retrieve his ...            0.453221   \n",
       "4  The collapse of the Iraqi army during the ISIS...            0.577018   \n",
       "\n",
       "   faithfulness  answer_relevancy  context_precision  \n",
       "0      0.666667          0.000000           0.916667  \n",
       "1      0.666667          0.000000           1.000000  \n",
       "2      0.000000          0.867013           0.916667  \n",
       "3      1.000000          0.907409           1.000000  \n",
       "4      1.000000          1.000000           1.000000  "
      ]
     },
     "execution_count": 9,
     "metadata": {},
     "output_type": "execute_result"
    }
   ],
   "source": [
    "basic_rag_results"
   ]
  },
  {
   "cell_type": "code",
   "execution_count": 16,
   "metadata": {},
   "outputs": [
    {
     "name": "stdout",
     "output_type": "stream",
     "text": [
      "--LOADING EVALUATION DATA--\n",
      "--GETTING CONTEXT AND ANSWERS--\n",
      "--EVALUATING LOCALLY--\n"
     ]
    },
    {
     "data": {
      "application/vnd.jupyter.widget-view+json": {
       "model_id": "de21e1e794c9400b9b35720bdda99007",
       "version_major": 2,
       "version_minor": 0
      },
      "text/plain": [
       "Evaluating:   0%|          | 0/20 [00:00<?, ?it/s]"
      ]
     },
     "metadata": {},
     "output_type": "display_data"
    },
    {
     "name": "stdout",
     "output_type": "stream",
     "text": [
      "--EVALUATION COMPLETE--\n"
     ]
    }
   ],
   "source": [
    "rag_ensemble_results = run_ragas_evaluation(rag_system_ensemble.rag_chain)"
   ]
  },
  {
   "cell_type": "code",
   "execution_count": 17,
   "metadata": {},
   "outputs": [],
   "source": [
    "rag_ensemble_results.to_csv(\"data/results/rag_ensemble_results.csv\")"
   ]
  },
  {
   "cell_type": "code",
   "execution_count": 20,
   "metadata": {},
   "outputs": [
    {
     "data": {
      "text/html": [
       "<div>\n",
       "<style scoped>\n",
       "    .dataframe tbody tr th:only-of-type {\n",
       "        vertical-align: middle;\n",
       "    }\n",
       "\n",
       "    .dataframe tbody tr th {\n",
       "        vertical-align: top;\n",
       "    }\n",
       "\n",
       "    .dataframe thead th {\n",
       "        text-align: right;\n",
       "    }\n",
       "</style>\n",
       "<table border=\"1\" class=\"dataframe\">\n",
       "  <thead>\n",
       "    <tr style=\"text-align: right;\">\n",
       "      <th></th>\n",
       "      <th>question</th>\n",
       "      <th>contexts</th>\n",
       "      <th>answer</th>\n",
       "      <th>ground_truth</th>\n",
       "      <th>answer_correctness</th>\n",
       "      <th>faithfulness</th>\n",
       "      <th>answer_relevancy</th>\n",
       "      <th>context_precision</th>\n",
       "    </tr>\n",
       "  </thead>\n",
       "  <tbody>\n",
       "    <tr>\n",
       "      <th>0</th>\n",
       "      <td>What upcoming animated project will feature Ad...</td>\n",
       "      <td>[(The Hollywood Reporter)The skies over Gotham...</td>\n",
       "      <td>An upcoming animated project in 2016 will feat...</td>\n",
       "      <td>Adam West and Burt Ward will be reprising thei...</td>\n",
       "      <td>0.669585</td>\n",
       "      <td>1.000000</td>\n",
       "      <td>0.000000</td>\n",
       "      <td>1.000000</td>\n",
       "    </tr>\n",
       "    <tr>\n",
       "      <th>1</th>\n",
       "      <td>What animated project did Adam West and Burt W...</td>\n",
       "      <td>[(The Hollywood Reporter)The skies over Gotham...</td>\n",
       "      <td>Adam West and Burt Ward announced an upcoming ...</td>\n",
       "      <td>Adam West and Burt Ward announced a new animat...</td>\n",
       "      <td>0.989260</td>\n",
       "      <td>0.666667</td>\n",
       "      <td>0.000000</td>\n",
       "      <td>0.833333</td>\n",
       "    </tr>\n",
       "    <tr>\n",
       "      <th>2</th>\n",
       "      <td>What event is Rory McIlroy preparing for after...</td>\n",
       "      <td>[(CNN)Jordan Spieth has Rory McIlroy and the w...</td>\n",
       "      <td>Rory McIlroy is preparing for the U.S. Masters...</td>\n",
       "      <td>Rory McIlroy is preparing for the U.S. Masters...</td>\n",
       "      <td>0.743055</td>\n",
       "      <td>0.500000</td>\n",
       "      <td>0.984150</td>\n",
       "      <td>0.887500</td>\n",
       "    </tr>\n",
       "    <tr>\n",
       "      <th>3</th>\n",
       "      <td>How did Donald Trump help Rory McIlroy retriev...</td>\n",
       "      <td>[(CNN)With a little bit of help from Donald Tr...</td>\n",
       "      <td>Donald Trump got a scuba diver to retrieve Ror...</td>\n",
       "      <td>Donald Trump helped Rory McIlroy retrieve his ...</td>\n",
       "      <td>0.488935</td>\n",
       "      <td>1.000000</td>\n",
       "      <td>0.888655</td>\n",
       "      <td>1.000000</td>\n",
       "    </tr>\n",
       "    <tr>\n",
       "      <th>4</th>\n",
       "      <td>What caused the collapse of the Iraqi army dur...</td>\n",
       "      <td>[militia into army units. At the same time, th...</td>\n",
       "      <td>The collapse of the Iraqi army during the ISIS...</td>\n",
       "      <td>The collapse of the Iraqi army during the ISIS...</td>\n",
       "      <td>0.528901</td>\n",
       "      <td>1.000000</td>\n",
       "      <td>0.983234</td>\n",
       "      <td>1.000000</td>\n",
       "    </tr>\n",
       "  </tbody>\n",
       "</table>\n",
       "</div>"
      ],
      "text/plain": [
       "                                            question  \\\n",
       "0  What upcoming animated project will feature Ad...   \n",
       "1  What animated project did Adam West and Burt W...   \n",
       "2  What event is Rory McIlroy preparing for after...   \n",
       "3  How did Donald Trump help Rory McIlroy retriev...   \n",
       "4  What caused the collapse of the Iraqi army dur...   \n",
       "\n",
       "                                            contexts  \\\n",
       "0  [(The Hollywood Reporter)The skies over Gotham...   \n",
       "1  [(The Hollywood Reporter)The skies over Gotham...   \n",
       "2  [(CNN)Jordan Spieth has Rory McIlroy and the w...   \n",
       "3  [(CNN)With a little bit of help from Donald Tr...   \n",
       "4  [militia into army units. At the same time, th...   \n",
       "\n",
       "                                              answer  \\\n",
       "0  An upcoming animated project in 2016 will feat...   \n",
       "1  Adam West and Burt Ward announced an upcoming ...   \n",
       "2  Rory McIlroy is preparing for the U.S. Masters...   \n",
       "3  Donald Trump got a scuba diver to retrieve Ror...   \n",
       "4  The collapse of the Iraqi army during the ISIS...   \n",
       "\n",
       "                                        ground_truth  answer_correctness  \\\n",
       "0  Adam West and Burt Ward will be reprising thei...            0.669585   \n",
       "1  Adam West and Burt Ward announced a new animat...            0.989260   \n",
       "2  Rory McIlroy is preparing for the U.S. Masters...            0.743055   \n",
       "3  Donald Trump helped Rory McIlroy retrieve his ...            0.488935   \n",
       "4  The collapse of the Iraqi army during the ISIS...            0.528901   \n",
       "\n",
       "   faithfulness  answer_relevancy  context_precision  \n",
       "0      1.000000          0.000000           1.000000  \n",
       "1      0.666667          0.000000           0.833333  \n",
       "2      0.500000          0.984150           0.887500  \n",
       "3      1.000000          0.888655           1.000000  \n",
       "4      1.000000          0.983234           1.000000  "
      ]
     },
     "execution_count": 20,
     "metadata": {},
     "output_type": "execute_result"
    }
   ],
   "source": [
    "rag_ensemble_results"
   ]
  },
  {
   "cell_type": "code",
   "execution_count": 9,
   "metadata": {},
   "outputs": [
    {
     "name": "stdout",
     "output_type": "stream",
     "text": [
      "--LOADING EVALUATION DATA--\n",
      "--GETTING CONTEXT AND ANSWERS--\n",
      "--EVALUATING LOCALLY--\n"
     ]
    },
    {
     "data": {
      "application/vnd.jupyter.widget-view+json": {
       "model_id": "8e8318f0eded4656b94500052d2dea26",
       "version_major": 2,
       "version_minor": 0
      },
      "text/plain": [
       "Evaluating:   0%|          | 0/76 [00:00<?, ?it/s]"
      ]
     },
     "metadata": {},
     "output_type": "display_data"
    },
    {
     "name": "stdout",
     "output_type": "stream",
     "text": [
      "--EVALUATION COMPLETE--\n"
     ]
    }
   ],
   "source": [
    "basic_rag_results = run_ragas_evaluation(rag_system.rag_chain)"
   ]
  },
  {
   "cell_type": "code",
   "execution_count": 10,
   "metadata": {},
   "outputs": [
    {
     "data": {
      "text/html": [
       "<div>\n",
       "<style scoped>\n",
       "    .dataframe tbody tr th:only-of-type {\n",
       "        vertical-align: middle;\n",
       "    }\n",
       "\n",
       "    .dataframe tbody tr th {\n",
       "        vertical-align: top;\n",
       "    }\n",
       "\n",
       "    .dataframe thead th {\n",
       "        text-align: right;\n",
       "    }\n",
       "</style>\n",
       "<table border=\"1\" class=\"dataframe\">\n",
       "  <thead>\n",
       "    <tr style=\"text-align: right;\">\n",
       "      <th></th>\n",
       "      <th>question</th>\n",
       "      <th>contexts</th>\n",
       "      <th>answer</th>\n",
       "      <th>ground_truth</th>\n",
       "      <th>answer_correctness</th>\n",
       "      <th>faithfulness</th>\n",
       "      <th>answer_relevancy</th>\n",
       "      <th>context_precision</th>\n",
       "    </tr>\n",
       "  </thead>\n",
       "  <tbody>\n",
       "    <tr>\n",
       "      <th>0</th>\n",
       "      <td>What is the significance of cherry trees in Wa...</td>\n",
       "      <td>[Washington (CNN)There should be plenty of pen...</td>\n",
       "      <td>The cherry trees in Washington, D.C., are sign...</td>\n",
       "      <td>Cherry trees hold great significance in Washin...</td>\n",
       "      <td>0.243916</td>\n",
       "      <td>0.833333</td>\n",
       "      <td>0.983714</td>\n",
       "      <td>1.000000</td>\n",
       "    </tr>\n",
       "    <tr>\n",
       "      <th>1</th>\n",
       "      <td>What is one of the events that Hillary Clinton...</td>\n",
       "      <td>[(CNN)After a handful events in two months, Hi...</td>\n",
       "      <td>Hillary Clinton will be participating in a pai...</td>\n",
       "      <td>Hillary Clinton will be participating in the A...</td>\n",
       "      <td>0.998523</td>\n",
       "      <td>1.000000</td>\n",
       "      <td>0.944543</td>\n",
       "      <td>0.950000</td>\n",
       "    </tr>\n",
       "    <tr>\n",
       "      <th>2</th>\n",
       "      <td>What role did the United States-led coalition ...</td>\n",
       "      <td>[(CNN)In his first interview since Islamic Sta...</td>\n",
       "      <td>The United States-led coalition conducted airs...</td>\n",
       "      <td>The United States-led coalition played a role ...</td>\n",
       "      <td>0.866016</td>\n",
       "      <td>0.800000</td>\n",
       "      <td>0.887886</td>\n",
       "      <td>1.000000</td>\n",
       "    </tr>\n",
       "    <tr>\n",
       "      <th>3</th>\n",
       "      <td>What can viewers expect from the season finale...</td>\n",
       "      <td>[(CNN)Have Rick and his fellow survivors final...</td>\n",
       "      <td>Viewers can expect a 90-minute season finale f...</td>\n",
       "      <td>The season finale of \"The Walking Dead\" is exp...</td>\n",
       "      <td>0.223431</td>\n",
       "      <td>1.000000</td>\n",
       "      <td>0.973545</td>\n",
       "      <td>0.916667</td>\n",
       "    </tr>\n",
       "    <tr>\n",
       "      <th>4</th>\n",
       "      <td>What is the significance of the Tunisian jihad...</td>\n",
       "      <td>[Museum. Protesters held banners that said \"We...</td>\n",
       "      <td>The Tunisian jihadist's significance lies in h...</td>\n",
       "      <td>The significance of the Tunisian jihadist in r...</td>\n",
       "      <td>0.673266</td>\n",
       "      <td>1.000000</td>\n",
       "      <td>0.901839</td>\n",
       "      <td>1.000000</td>\n",
       "    </tr>\n",
       "    <tr>\n",
       "      <th>5</th>\n",
       "      <td>How did the undercover FBI informant play a ro...</td>\n",
       "      <td>[(CNN)An Army National Guard member and his co...</td>\n",
       "      <td>The undercover FBI informant played a crucial ...</td>\n",
       "      <td>The undercover FBI informant played a role in ...</td>\n",
       "      <td>0.829241</td>\n",
       "      <td>0.714286</td>\n",
       "      <td>0.852989</td>\n",
       "      <td>1.000000</td>\n",
       "    </tr>\n",
       "    <tr>\n",
       "      <th>6</th>\n",
       "      <td>How does the new Red brand aim to leverage Rad...</td>\n",
       "      <td>[Carlson Rezidor, which is hueing (sic) toward...</td>\n",
       "      <td>The new Red brand aims to leverage Radisson's ...</td>\n",
       "      <td>The new Red brand aims to leverage Radisson's ...</td>\n",
       "      <td>0.848405</td>\n",
       "      <td>1.000000</td>\n",
       "      <td>0.915066</td>\n",
       "      <td>0.916667</td>\n",
       "    </tr>\n",
       "    <tr>\n",
       "      <th>7</th>\n",
       "      <td>When are the peak blooms expected during the N...</td>\n",
       "      <td>[Washington (CNN)There should be plenty of pen...</td>\n",
       "      <td>The peak blooms are expected between April 11 ...</td>\n",
       "      <td>The peak blooms are expected between April 11 ...</td>\n",
       "      <td>0.250000</td>\n",
       "      <td>1.000000</td>\n",
       "      <td>0.923510</td>\n",
       "      <td>1.000000</td>\n",
       "    </tr>\n",
       "    <tr>\n",
       "      <th>8</th>\n",
       "      <td>What is Zhanna Nemtsova's opinion on the Russi...</td>\n",
       "      <td>[of the case except what is in the media. \"I d...</td>\n",
       "      <td>Zhanna Nemtsova has no faith in the Russian in...</td>\n",
       "      <td>Zhanna Nemtsova said she has no faith in the R...</td>\n",
       "      <td>0.733150</td>\n",
       "      <td>1.000000</td>\n",
       "      <td>0.935731</td>\n",
       "      <td>1.000000</td>\n",
       "    </tr>\n",
       "    <tr>\n",
       "      <th>9</th>\n",
       "      <td>Who was one of Putin's harshest critics?</td>\n",
       "      <td>[be heading an opposition party and do what I'...</td>\n",
       "      <td>One of Putin's harshest critics was Boris Nemt...</td>\n",
       "      <td>Boris Nemtsov</td>\n",
       "      <td>0.229624</td>\n",
       "      <td>1.000000</td>\n",
       "      <td>1.000000</td>\n",
       "      <td>1.000000</td>\n",
       "    </tr>\n",
       "    <tr>\n",
       "      <th>10</th>\n",
       "      <td>What factors could affect the selection of the...</td>\n",
       "      <td>[no longer believed that organized labor was a...</td>\n",
       "      <td>The selection of the new Senate Democrats lead...</td>\n",
       "      <td>Left-leaning activists and organized labor's c...</td>\n",
       "      <td>0.646462</td>\n",
       "      <td>1.000000</td>\n",
       "      <td>0.937706</td>\n",
       "      <td>0.679167</td>\n",
       "    </tr>\n",
       "    <tr>\n",
       "      <th>11</th>\n",
       "      <td>How did the USS Sterett and USS New York coord...</td>\n",
       "      <td>[(CNN)The U.S. Navy rescued two Saudi Arabia a...</td>\n",
       "      <td>The USS Sterett coordinated the search for the...</td>\n",
       "      <td>The USS Sterett, a guided-missile destroyer, c...</td>\n",
       "      <td>0.243723</td>\n",
       "      <td>0.250000</td>\n",
       "      <td>0.941612</td>\n",
       "      <td>1.000000</td>\n",
       "    </tr>\n",
       "    <tr>\n",
       "      <th>12</th>\n",
       "      <td>When will Hillary Clinton announce her 2016 pr...</td>\n",
       "      <td>[(CNN)Sen. Harry's Reid's perfunctory announce...</td>\n",
       "      <td>I don't know when Hillary Clinton will announc...</td>\n",
       "      <td>Hillary Clinton is expected to announce her 20...</td>\n",
       "      <td>0.536582</td>\n",
       "      <td>0.666667</td>\n",
       "      <td>0.000000</td>\n",
       "      <td>1.000000</td>\n",
       "    </tr>\n",
       "    <tr>\n",
       "      <th>13</th>\n",
       "      <td>What does King Abdullah II think about ISIS es...</td>\n",
       "      <td>[have that Syrian President Bashar al-Assad is...</td>\n",
       "      <td>King Abdullah II believes that ISIS's establis...</td>\n",
       "      <td>During his interview with Zakaria, the King re...</td>\n",
       "      <td>0.466788</td>\n",
       "      <td>0.500000</td>\n",
       "      <td>0.961726</td>\n",
       "      <td>0.804167</td>\n",
       "    </tr>\n",
       "    <tr>\n",
       "      <th>14</th>\n",
       "      <td>What nationalities were the Bardo Museum attac...</td>\n",
       "      <td>[Museum. Protesters held banners that said \"We...</td>\n",
       "      <td>The victims of the Bardo Museum attack include...</td>\n",
       "      <td>The victims of the Bardo Museum attack include...</td>\n",
       "      <td>0.743356</td>\n",
       "      <td>1.000000</td>\n",
       "      <td>0.935258</td>\n",
       "      <td>1.000000</td>\n",
       "    </tr>\n",
       "    <tr>\n",
       "      <th>15</th>\n",
       "      <td>How did W Hotels become a pioneer in the hospi...</td>\n",
       "      <td>[in pre-social media 1998. \"Starwood was the f...</td>\n",
       "      <td>W Hotels became a pioneer in the hospitality i...</td>\n",
       "      <td>W Hotels became a pioneer in the hospitality i...</td>\n",
       "      <td>0.654135</td>\n",
       "      <td>1.000000</td>\n",
       "      <td>0.882260</td>\n",
       "      <td>1.000000</td>\n",
       "    </tr>\n",
       "    <tr>\n",
       "      <th>16</th>\n",
       "      <td>Why were the first cherry trees in Washington,...</td>\n",
       "      <td>[Taft planted one of the first of more than 3,...</td>\n",
       "      <td>The first cherry trees in Washington, D.C. wer...</td>\n",
       "      <td>The first cherry trees in Washington, D.C. wer...</td>\n",
       "      <td>0.677563</td>\n",
       "      <td>1.000000</td>\n",
       "      <td>0.961564</td>\n",
       "      <td>0.833333</td>\n",
       "    </tr>\n",
       "    <tr>\n",
       "      <th>17</th>\n",
       "      <td>How can the government protect middle class jo...</td>\n",
       "      <td>[of unions is one area where the government ca...</td>\n",
       "      <td>The government can protect middle class jobs a...</td>\n",
       "      <td>Shoring up the strength of unions is one area ...</td>\n",
       "      <td>0.694970</td>\n",
       "      <td>1.000000</td>\n",
       "      <td>1.000000</td>\n",
       "      <td>0.950000</td>\n",
       "    </tr>\n",
       "    <tr>\n",
       "      <th>18</th>\n",
       "      <td>Why was the Bardo Museum targeted in the terro...</td>\n",
       "      <td>[Museum. Protesters held banners that said \"We...</td>\n",
       "      <td>The Bardo Museum was targeted in the terrorist...</td>\n",
       "      <td>The Bardo Museum was targeted in the terrorist...</td>\n",
       "      <td>0.779283</td>\n",
       "      <td>0.300000</td>\n",
       "      <td>0.958151</td>\n",
       "      <td>1.000000</td>\n",
       "    </tr>\n",
       "  </tbody>\n",
       "</table>\n",
       "</div>"
      ],
      "text/plain": [
       "                                             question  \\\n",
       "0   What is the significance of cherry trees in Wa...   \n",
       "1   What is one of the events that Hillary Clinton...   \n",
       "2   What role did the United States-led coalition ...   \n",
       "3   What can viewers expect from the season finale...   \n",
       "4   What is the significance of the Tunisian jihad...   \n",
       "5   How did the undercover FBI informant play a ro...   \n",
       "6   How does the new Red brand aim to leverage Rad...   \n",
       "7   When are the peak blooms expected during the N...   \n",
       "8   What is Zhanna Nemtsova's opinion on the Russi...   \n",
       "9            Who was one of Putin's harshest critics?   \n",
       "10  What factors could affect the selection of the...   \n",
       "11  How did the USS Sterett and USS New York coord...   \n",
       "12  When will Hillary Clinton announce her 2016 pr...   \n",
       "13  What does King Abdullah II think about ISIS es...   \n",
       "14  What nationalities were the Bardo Museum attac...   \n",
       "15  How did W Hotels become a pioneer in the hospi...   \n",
       "16  Why were the first cherry trees in Washington,...   \n",
       "17  How can the government protect middle class jo...   \n",
       "18  Why was the Bardo Museum targeted in the terro...   \n",
       "\n",
       "                                             contexts  \\\n",
       "0   [Washington (CNN)There should be plenty of pen...   \n",
       "1   [(CNN)After a handful events in two months, Hi...   \n",
       "2   [(CNN)In his first interview since Islamic Sta...   \n",
       "3   [(CNN)Have Rick and his fellow survivors final...   \n",
       "4   [Museum. Protesters held banners that said \"We...   \n",
       "5   [(CNN)An Army National Guard member and his co...   \n",
       "6   [Carlson Rezidor, which is hueing (sic) toward...   \n",
       "7   [Washington (CNN)There should be plenty of pen...   \n",
       "8   [of the case except what is in the media. \"I d...   \n",
       "9   [be heading an opposition party and do what I'...   \n",
       "10  [no longer believed that organized labor was a...   \n",
       "11  [(CNN)The U.S. Navy rescued two Saudi Arabia a...   \n",
       "12  [(CNN)Sen. Harry's Reid's perfunctory announce...   \n",
       "13  [have that Syrian President Bashar al-Assad is...   \n",
       "14  [Museum. Protesters held banners that said \"We...   \n",
       "15  [in pre-social media 1998. \"Starwood was the f...   \n",
       "16  [Taft planted one of the first of more than 3,...   \n",
       "17  [of unions is one area where the government ca...   \n",
       "18  [Museum. Protesters held banners that said \"We...   \n",
       "\n",
       "                                               answer  \\\n",
       "0   The cherry trees in Washington, D.C., are sign...   \n",
       "1   Hillary Clinton will be participating in a pai...   \n",
       "2   The United States-led coalition conducted airs...   \n",
       "3   Viewers can expect a 90-minute season finale f...   \n",
       "4   The Tunisian jihadist's significance lies in h...   \n",
       "5   The undercover FBI informant played a crucial ...   \n",
       "6   The new Red brand aims to leverage Radisson's ...   \n",
       "7   The peak blooms are expected between April 11 ...   \n",
       "8   Zhanna Nemtsova has no faith in the Russian in...   \n",
       "9   One of Putin's harshest critics was Boris Nemt...   \n",
       "10  The selection of the new Senate Democrats lead...   \n",
       "11  The USS Sterett coordinated the search for the...   \n",
       "12  I don't know when Hillary Clinton will announc...   \n",
       "13  King Abdullah II believes that ISIS's establis...   \n",
       "14  The victims of the Bardo Museum attack include...   \n",
       "15  W Hotels became a pioneer in the hospitality i...   \n",
       "16  The first cherry trees in Washington, D.C. wer...   \n",
       "17  The government can protect middle class jobs a...   \n",
       "18  The Bardo Museum was targeted in the terrorist...   \n",
       "\n",
       "                                         ground_truth  answer_correctness  \\\n",
       "0   Cherry trees hold great significance in Washin...            0.243916   \n",
       "1   Hillary Clinton will be participating in the A...            0.998523   \n",
       "2   The United States-led coalition played a role ...            0.866016   \n",
       "3   The season finale of \"The Walking Dead\" is exp...            0.223431   \n",
       "4   The significance of the Tunisian jihadist in r...            0.673266   \n",
       "5   The undercover FBI informant played a role in ...            0.829241   \n",
       "6   The new Red brand aims to leverage Radisson's ...            0.848405   \n",
       "7   The peak blooms are expected between April 11 ...            0.250000   \n",
       "8   Zhanna Nemtsova said she has no faith in the R...            0.733150   \n",
       "9                                       Boris Nemtsov            0.229624   \n",
       "10  Left-leaning activists and organized labor's c...            0.646462   \n",
       "11  The USS Sterett, a guided-missile destroyer, c...            0.243723   \n",
       "12  Hillary Clinton is expected to announce her 20...            0.536582   \n",
       "13  During his interview with Zakaria, the King re...            0.466788   \n",
       "14  The victims of the Bardo Museum attack include...            0.743356   \n",
       "15  W Hotels became a pioneer in the hospitality i...            0.654135   \n",
       "16  The first cherry trees in Washington, D.C. wer...            0.677563   \n",
       "17  Shoring up the strength of unions is one area ...            0.694970   \n",
       "18  The Bardo Museum was targeted in the terrorist...            0.779283   \n",
       "\n",
       "    faithfulness  answer_relevancy  context_precision  \n",
       "0       0.833333          0.983714           1.000000  \n",
       "1       1.000000          0.944543           0.950000  \n",
       "2       0.800000          0.887886           1.000000  \n",
       "3       1.000000          0.973545           0.916667  \n",
       "4       1.000000          0.901839           1.000000  \n",
       "5       0.714286          0.852989           1.000000  \n",
       "6       1.000000          0.915066           0.916667  \n",
       "7       1.000000          0.923510           1.000000  \n",
       "8       1.000000          0.935731           1.000000  \n",
       "9       1.000000          1.000000           1.000000  \n",
       "10      1.000000          0.937706           0.679167  \n",
       "11      0.250000          0.941612           1.000000  \n",
       "12      0.666667          0.000000           1.000000  \n",
       "13      0.500000          0.961726           0.804167  \n",
       "14      1.000000          0.935258           1.000000  \n",
       "15      1.000000          0.882260           1.000000  \n",
       "16      1.000000          0.961564           0.833333  \n",
       "17      1.000000          1.000000           0.950000  \n",
       "18      0.300000          0.958151           1.000000  "
      ]
     },
     "execution_count": 10,
     "metadata": {},
     "output_type": "execute_result"
    }
   ],
   "source": [
    "basic_rag_results"
   ]
  },
  {
   "cell_type": "code",
   "execution_count": 12,
   "metadata": {},
   "outputs": [],
   "source": [
    "basic_rag_results.to_csv(\"data/evaluation_results/bm_1_baseline.csv\")"
   ]
  },
  {
   "cell_type": "code",
   "execution_count": null,
   "metadata": {},
   "outputs": [],
   "source": []
  }
 ],
 "metadata": {
  "kernelspec": {
   "display_name": "rag-optimization-cnn-dailymail-hiPg4Kip-py3.10",
   "language": "python",
   "name": "python3"
  },
  "language_info": {
   "codemirror_mode": {
    "name": "ipython",
    "version": 3
   },
   "file_extension": ".py",
   "mimetype": "text/x-python",
   "name": "python",
   "nbconvert_exporter": "python",
   "pygments_lexer": "ipython3",
   "version": "3.10.12"
  }
 },
 "nbformat": 4,
 "nbformat_minor": 2
}
