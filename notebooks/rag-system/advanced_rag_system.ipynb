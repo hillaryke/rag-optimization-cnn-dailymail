{
 "cells": [
  {
   "cell_type": "markdown",
   "metadata": {},
   "source": [
    "### Import modules"
   ]
  },
  {
   "cell_type": "code",
   "execution_count": 1,
   "metadata": {},
   "outputs": [],
   "source": [
    "import os\n",
    "import pandas as pd\n",
    "\n",
    "os.chdir(\"../../\")\n",
    "\n",
    "from datasets import load_dataset\n",
    "from langchain_openai import OpenAIEmbeddings, ChatOpenAI\n",
    "from langchain.vectorstores import Chroma\n",
    "from langchain.chains import RetrievalQA\n",
    "from langchain_community.document_loaders import HuggingFaceDatasetLoader\n",
    "from langchain.embeddings import HuggingFaceEmbeddings\n",
    "from dotenv import load_dotenv"
   ]
  },
  {
   "cell_type": "code",
   "execution_count": 2,
   "metadata": {},
   "outputs": [],
   "source": [
    "from src.rag_pipeline import chunk_by_recursive_split, RAGSystem\n",
    "from src.env_loader import load_api_keys"
   ]
  },
  {
   "cell_type": "markdown",
   "metadata": {},
   "source": [
    "### Load API keys"
   ]
  },
  {
   "cell_type": "code",
   "execution_count": 3,
   "metadata": {},
   "outputs": [],
   "source": [
    "openai_api_key = load_api_keys(\"OPENAI_API_KEY\")"
   ]
  },
  {
   "cell_type": "markdown",
   "metadata": {},
   "source": [
    "#### Initialize embeddings and RAG system"
   ]
  },
  {
   "cell_type": "code",
   "execution_count": null,
   "metadata": {},
   "outputs": [],
   "source": [
    "# embeddings=HuggingFaceEmbeddings(model_name='sentence-transformers/all-MiniLM-L6-v2')\n",
    "embeddings = OpenAIEmbeddings(api_key=openai_api_key, model='text-embedding-ada-002')"
   ]
  },
  {
   "cell_type": "code",
   "execution_count": 4,
   "metadata": {},
   "outputs": [],
   "source": [
    "rag_system = RAGSystem(\n",
    "  model_name = \"gpt-3.5-turbo\",\n",
    "  existing_chroma = False,\n",
    "  \n",
    ")"
   ]
  },
  {
   "cell_type": "code",
   "execution_count": 5,
   "metadata": {},
   "outputs": [
    {
     "name": "stdout",
     "output_type": "stream",
     "text": [
      "--Split 1000 documents into 5030 chunks.--\n"
     ]
    }
   ],
   "source": [
    "rag_system.initialize()"
   ]
  },
  {
   "cell_type": "markdown",
   "metadata": {},
   "source": [
    "#### Test the RAG Chain"
   ]
  },
  {
   "cell_type": "code",
   "execution_count": 6,
   "metadata": {},
   "outputs": [],
   "source": [
    "question = \"Who bit Jon Huntsman in 2011\"\n",
    "result = rag_system.rag_chain.invoke(question)"
   ]
  },
  {
   "cell_type": "code",
   "execution_count": 7,
   "metadata": {},
   "outputs": [
    {
     "data": {
      "text/plain": [
       "{'question': 'Who bit Jon Huntsman in 2011',\n",
       " 'answer': \"I don't know.\",\n",
       " 'contexts': ['a step towards the past, rather than the future. \"We had Bob Dole, John McCain, Mitt Romney. If it\\'s just whoever\\'s next up, that hasn\\'t worked so well for the Republican Party in the past,\" he said. \"Jeb\\'s a good man. You\\'re not going to hear me speak ill will of Jeb...I just think voters are going to look at this and say, \\'If we\\'re running against Hillary Clinton, we\\'ll need a name from the future -- not a name from the past --  to win.\\' \" In his remarks Saturday, Walker also hit the President over foreign policy and took a shot at Hillary Clinton for giving \"Russia a reset button.\" On domestic policy, he laid out his small-government vision for a system in which success is measured by \"how many people are no longer dependent on the government.\" Asked by reporters Saturday to respond to flip-flopping accusations by his critics, Walker said the \"the only major issue out there was immigration.\" Indeed Walker reversed his stance earlier this month when he acknowledged that he\\'s no',\n",
       "  'a step towards the past, rather than the future. \"We had Bob Dole, John McCain, Mitt Romney. If it\\'s just whoever\\'s next up, that hasn\\'t worked so well for the Republican Party in the past,\" he said. \"Jeb\\'s a good man. You\\'re not going to hear me speak ill will of Jeb...I just think voters are going to look at this and say, \\'If we\\'re running against Hillary Clinton, we\\'ll need a name from the future -- not a name from the past --  to win.\\' \" In his remarks Saturday, Walker also hit the President over foreign policy and took a shot at Hillary Clinton for giving \"Russia a reset button.\" On domestic policy, he laid out his small-government vision for a system in which success is measured by \"how many people are no longer dependent on the government.\" Asked by reporters Saturday to respond to flip-flopping accusations by his critics, Walker said the \"the only major issue out there was immigration.\" Indeed Walker reversed his stance earlier this month when he acknowledged that he\\'s no',\n",
       "  'Gov. Scott Walker and former Florida Gov. Jeb Bush tend to be at the top of GOP presidential polls these days, and a good deal has been written of late about a growing rivalry. But Maggie Haberman of The New York Times took us inside some recent big-money conversations during which Walker took a more diplomatic approach when asked about his potential nomination rival. Walker was in New York City last week for fund-raising meet and greets, and he met with some hedge fund executives who were very impressed by him. New York Observer owner Jared Kushner was also on hand. \"He was asked how he would beat Jeb Bush, and he surprised a bunch of people by saying Jeb Bush is the front-runner,\" said Haberman. \"Now, that\\'s contrary to a lot of other things he said publicly last week.\" \"But that is his sell to people who could give him money, which is: \\'No, no, (Bush) is the front-runner but I\\'m the slow and steady guy who\\'s going to come up behind, just like when I ran track when I was younger.\\'\"',\n",
       "  'Gov. Scott Walker and former Florida Gov. Jeb Bush tend to be at the top of GOP presidential polls these days, and a good deal has been written of late about a growing rivalry. But Maggie Haberman of The New York Times took us inside some recent big-money conversations during which Walker took a more diplomatic approach when asked about his potential nomination rival. Walker was in New York City last week for fund-raising meet and greets, and he met with some hedge fund executives who were very impressed by him. New York Observer owner Jared Kushner was also on hand. \"He was asked how he would beat Jeb Bush, and he surprised a bunch of people by saying Jeb Bush is the front-runner,\" said Haberman. \"Now, that\\'s contrary to a lot of other things he said publicly last week.\" \"But that is his sell to people who could give him money, which is: \\'No, no, (Bush) is the front-runner but I\\'m the slow and steady guy who\\'s going to come up behind, just like when I ran track when I was younger.\\'\"',\n",
       "  'Concord, New Hampshire (CNN)Scott Walker brought his Midwestern swagger to New Hampshire on Saturday, leading a crowd of activists to cheers as he sought to draw a contrast to his top-tier rival in the unofficial GOP presidential race, Jeb Bush. The Wisconsin governor, amid charges from critics that he\\'s a flip-flopper, also acknowledged that he had changed positions on immigration reform but argued that he\\'s remained consistent in everything else. Walker was met with great fanfare at his only open event during his two-day stop to the first-in-the-nation primary state. Activists gathered at Concord High School for a training event that was hosted by the New Hampshire GOP and headlined by Walker\\'s appearance. Jeb Bush makes 2016 debut in New Hampshire . The contrasts made against Bush were subtle, but Walker emphasized his modest roots as the son of a preacher and reiterated his penchant for shopping at Kohl\\'s while armed with coupons. \"I actually stopped by Kohl\\'s and bought this']}"
      ]
     },
     "execution_count": 7,
     "metadata": {},
     "output_type": "execute_result"
    }
   ],
   "source": [
    "result"
   ]
  }
 ],
 "metadata": {
  "kernelspec": {
   "display_name": "rag-optimization-cnn-dailymail-hiPg4Kip-py3.10",
   "language": "python",
   "name": "python3"
  },
  "language_info": {
   "codemirror_mode": {
    "name": "ipython",
    "version": 3
   },
   "file_extension": ".py",
   "mimetype": "text/x-python",
   "name": "python",
   "nbconvert_exporter": "python",
   "pygments_lexer": "ipython3",
   "version": "3.10.12"
  }
 },
 "nbformat": 4,
 "nbformat_minor": 2
}
