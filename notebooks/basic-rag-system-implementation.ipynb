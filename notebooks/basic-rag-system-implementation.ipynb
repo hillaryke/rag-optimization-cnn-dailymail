{
 "cells": [
  {
   "cell_type": "markdown",
   "metadata": {},
   "source": [
    "### Import modules"
   ]
  },
  {
   "cell_type": "code",
   "execution_count": 11,
   "metadata": {},
   "outputs": [],
   "source": [
    "import os\n",
    "\n",
    "from datasets import load_dataset\n",
    "from langchain_openai import OpenAIEmbeddings, ChatOpenAI\n",
    "from langchain.vectorstores import Chroma\n",
    "from langchain.chains import RetrievalQA\n",
    "from langchain_community.document_loaders import HuggingFaceDatasetLoader\n",
    "\n",
    "from dotenv import load_dotenv\n",
    "\n",
    "import pandas as pd"
   ]
  },
  {
   "cell_type": "code",
   "execution_count": 12,
   "metadata": {},
   "outputs": [],
   "source": [
    "os.chdir(\"../\")"
   ]
  },
  {
   "cell_type": "markdown",
   "metadata": {},
   "source": [
    "### Load env & OpenAI API Key"
   ]
  },
  {
   "cell_type": "code",
   "execution_count": 13,
   "metadata": {},
   "outputs": [],
   "source": [
    "load_dotenv()\n",
    "openai_api_key = os.environ.get(\"OPENAI_API_KEY\")"
   ]
  },
  {
   "cell_type": "markdown",
   "metadata": {},
   "source": [
    "### Load the dataset from huggingface"
   ]
  },
  {
   "cell_type": "code",
   "execution_count": 14,
   "metadata": {},
   "outputs": [],
   "source": [
    "dataset = load_dataset(\"cnn_dailymail\", \"3.0.0\", split=\"validation[:1000]\")"
   ]
  },
  {
   "cell_type": "code",
   "execution_count": 15,
   "metadata": {},
   "outputs": [
    {
     "data": {
      "text/plain": [
       "Dataset({\n",
       "    features: ['article', 'highlights', 'id'],\n",
       "    num_rows: 1000\n",
       "})"
      ]
     },
     "execution_count": 15,
     "metadata": {},
     "output_type": "execute_result"
    }
   ],
   "source": [
    "dataset"
   ]
  },
  {
   "cell_type": "markdown",
   "metadata": {},
   "source": [
    "#### Prepare documents"
   ]
  },
  {
   "cell_type": "code",
   "execution_count": 16,
   "metadata": {},
   "outputs": [],
   "source": [
    "documents = [article['article'] for article in dataset]"
   ]
  },
  {
   "cell_type": "markdown",
   "metadata": {},
   "source": [
    "#### Save the dataset to csv file for faster loading"
   ]
  },
  {
   "cell_type": "code",
   "execution_count": 6,
   "metadata": {},
   "outputs": [],
   "source": [
    "# Convert to a pandas DataFrame\n",
    "df = pd.DataFrame(dataset)\n",
    "\n",
    "# Save to a CSV file\n",
    "df.to_csv(\"data/cnn_dailymail_validation_subset.csv\", index=False)  # index=False to avoid saving row numbers"
   ]
  },
  {
   "cell_type": "markdown",
   "metadata": {},
   "source": [
    "### Load dataset using langchain.  Api [Reference](https://api.python.langchain.com/en/latest/document_loaders/langchain_community.document_loaders.hugging_face_dataset.HuggingFaceDatasetLoader.html)\n",
    "- Loads the data into document objects\n",
    "- load_and_split defaults to RecursiveCharacterTextSplitter\n",
    "* The challenge: Unable to specify the type of dataset i.e train or validation"
   ]
  },
  {
   "cell_type": "code",
   "execution_count": 7,
   "metadata": {},
   "outputs": [],
   "source": [
    "from langchain_community.document_loaders import HuggingFaceDatasetLoader\n",
    "dataset_name = \"cnn_dailymail\"\n",
    "page_content_column = \"article\"\n",
    "configuration = \"3.0.0\"\n",
    "\n",
    "loader = HuggingFaceDatasetLoader(dataset_name, page_content_column, configuration)\n",
    "data = loader.load()\n",
    "data = data[:1000]"
   ]
  },
  {
   "cell_type": "markdown",
   "metadata": {},
   "source": [
    "### Split the documents"
   ]
  },
  {
   "cell_type": "code",
   "execution_count": 17,
   "metadata": {},
   "outputs": [],
   "source": [
    "from langchain.text_splitter import RecursiveCharacterTextSplitter\n",
    "\n",
    "text_splitter = RecursiveCharacterTextSplitter(\n",
    "    chunk_size = 1000,\n",
    "    chunk_overlap = 200,\n",
    ")\n",
    "\n",
    "split_docs = text_splitter.create_documents(documents)"
   ]
  },
  {
   "cell_type": "code",
   "execution_count": 18,
   "metadata": {},
   "outputs": [
    {
     "name": "stdout",
     "output_type": "stream",
     "text": [
      "(CNN)Share, and your gift will be multiplied. That may sound like an esoteric adage, but when Zully Broussard selflessly decided to give one of her kidneys to a stranger, her generosity paired up with big data. It resulted in six patients receiving transplants. That surprised and wowed her. \"I thought I was going to help this one person who I don't know, but the fact that so many people can have a life extension, that's pretty big,\" Broussard told CNN affiliate KGO. She may feel guided in her generosity by a higher power. \"Thanks for all the support and prayers,\" a comment on a Facebook page in her name read. \"I know this entire journey is much bigger than all of us. I also know I'm just the messenger.\" CNN cannot verify the authenticity of the page. But the power that multiplied Broussard's gift was data processing of genetic profiles from donor-recipient pairs. It works on a simple swapping principle but takes it to a much higher level, according to California Pacific Medical Center\n"
     ]
    }
   ],
   "source": [
    "print(split_docs[0].page_content)"
   ]
  },
  {
   "cell_type": "markdown",
   "metadata": {},
   "source": [
    "#### Initialize embeddings and vectorstore"
   ]
  },
  {
   "cell_type": "code",
   "execution_count": 19,
   "metadata": {},
   "outputs": [],
   "source": [
    "embeddings = OpenAIEmbeddings(api_key=openai_api_key)"
   ]
  },
  {
   "cell_type": "code",
   "execution_count": 20,
   "metadata": {},
   "outputs": [],
   "source": [
    "vectorstore = Chroma.from_documents(split_docs, embeddings)"
   ]
  },
  {
   "cell_type": "markdown",
   "metadata": {},
   "source": [
    "#### Create retriever"
   ]
  },
  {
   "cell_type": "code",
   "execution_count": 23,
   "metadata": {},
   "outputs": [],
   "source": [
    "# Create retriever\n",
    "retriever = vectorstore.as_retriever(search_kwargs={\"k\": 3})"
   ]
  },
  {
   "cell_type": "code",
   "execution_count": 24,
   "metadata": {},
   "outputs": [],
   "source": [
    "# Initialize language model\n",
    "llm = ChatOpenAI(model_name=\"gpt-4o\", temperature=0)"
   ]
  },
  {
   "cell_type": "markdown",
   "metadata": {},
   "source": [
    "#### Create a RAG chain"
   ]
  },
  {
   "cell_type": "code",
   "execution_count": 25,
   "metadata": {},
   "outputs": [],
   "source": [
    "rag_chain = RetrievalQA.from_chain_type(\n",
    "  llm = llm,\n",
    "  chain_type = \"stuff\",\n",
    "  retriever = retriever,\n",
    "  return_source_documents = True,\n",
    ")"
   ]
  },
  {
   "cell_type": "markdown",
   "metadata": {},
   "source": [
    "#### Test the RAG chain"
   ]
  },
  {
   "cell_type": "code",
   "execution_count": 26,
   "metadata": {},
   "outputs": [],
   "source": [
    "question = \"Who bit Jon Huntsman in 2011\"\n",
    "result = rag_chain.invoke(question)"
   ]
  },
  {
   "cell_type": "code",
   "execution_count": 27,
   "metadata": {},
   "outputs": [
    {
     "name": "stdout",
     "output_type": "stream",
     "text": [
      "{'query': 'Who was the person who bit Jon Huntsman in 2011', 'result': 'The goat named Izak bit Jon Huntsman in 2011.', 'source_documents': [Document(page_content='wrote a blank check for Cruz and pulled out his wallet, only to throw it on the ground at Cruz\\'s feet. \"For those who believe in miracles, this gentleman just threw his wallet at a politician,\" Cruz said, getting a big laugh from the crowd. \"And he actually got it back.\" Cruz could not accept the money because he\\'s not yet a candidate. One man, Bill Higgins, stood outside in the snow for four hours hoping Cruz would meet his goat named Izak, an apparent fixture on the campaign trail which was wearing a hat that said \"I voted\" and who happened to bite Jon Huntsman in 2011. Cruz waved hello at Higgins as the senator exited the building Sunday afternoon but didn\\'t stop to greet the goat. \"He\\'ll be back again,\" Higgins said, trying to appear unfazed. \"I\\'m sure he wants to get to his next stop.\"'), Document(page_content='and 25 others were on standby. Kim sat down at a different table than Lippert, then got up and ran to the ambassador\\'s right side yelling something that sounded like anti-American sentiments. \"When the man jumped on the ambassador, I stood up and jumped on the man, and they both fell on the ground,\" a witness, Jang Yoon Seok, told CNN affiliate YTN. \"Luckily I got on top of the man\\'s back and could press him to the floor. Then others came to hold him on the floor.\" Jang said he later saw the knife on the table. It had a wooden handle and did not look particularly sophisticated, he said. Seoul police said a knife, about 10 inches long, was used in the assault and the suspect brought it from home. Videos showed the suspect pinned on the floor, rolled into a blanket and carried out of the building. He was heard shouting, \"The South Korea-U.S. military drills must stop.\" The drills began earlier this week. Explaining the joint South Korea-U.S. military exercises . After the attack,'), Document(page_content='the building. He was heard shouting, \"The South Korea-U.S. military drills must stop.\" The drills began earlier this week. Explaining the joint South Korea-U.S. military exercises . After the attack, Lippert -- clutching his right cheek and holding a bloodied arm -- was photographed hurrying out of the Sejong Cultural Institute in central Seoul. The cut to his face runs from his right cheekbone to his lower jaw and is about 4 inches long and about an inch deep, Dr. Jung said. Fortunately, there was no damage to his facial nerve. Lippert also suffered five gashes in his left arm and hand, but he is not likely to have permanent damage to his arm function. \"The ambassador was very calm. People around him were taken aback, but he was very calm,\" said Dr. John Linton. \"He was speaking with his doctor on what to do. It was surprising.\" As the ambassador left and headed to the hospital, investigators arrived, hoping to figure out exactly what happened. While there are videos showing what')]}\n"
     ]
    }
   ],
   "source": [
    "print(result)"
   ]
  },
  {
   "cell_type": "code",
   "execution_count": null,
   "metadata": {},
   "outputs": [],
   "source": []
  }
 ],
 "metadata": {
  "kernelspec": {
   "display_name": "rag-optimization-cnn-dailymail-hiPg4Kip-py3.10",
   "language": "python",
   "name": "python3"
  },
  "language_info": {
   "codemirror_mode": {
    "name": "ipython",
    "version": 3
   },
   "file_extension": ".py",
   "mimetype": "text/x-python",
   "name": "python",
   "nbconvert_exporter": "python",
   "pygments_lexer": "ipython3",
   "version": "3.10.12"
  }
 },
 "nbformat": 4,
 "nbformat_minor": 2
}
