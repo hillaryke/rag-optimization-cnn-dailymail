{
 "cells": [
  {
   "cell_type": "markdown",
   "metadata": {},
   "source": [
    "### Import modules"
   ]
  },
  {
   "cell_type": "code",
   "execution_count": 1,
   "metadata": {},
   "outputs": [],
   "source": [
    "import os\n",
    "import pandas as pd\n",
    "\n",
    "os.chdir(\"../../\")\n",
    "\n",
    "from datasets import load_dataset\n",
    "from langchain_openai import OpenAIEmbeddings, ChatOpenAI\n",
    "from langchain.vectorstores import Chroma\n",
    "from langchain.chains import RetrievalQA\n",
    "from langchain_community.document_loaders import HuggingFaceDatasetLoader\n",
    "# from langchain_huggingface import HuggingFaceEmbeddings\n",
    "from dotenv import load_dotenv"
   ]
  },
  {
   "cell_type": "code",
   "execution_count": 2,
   "metadata": {},
   "outputs": [],
   "source": [
    "from src.rag_pipeline import chunk_by_recursive_split, RAGSystem\n",
    "from src.env_loader import load_api_keys\n",
    "from src.ragas.ragas_pipeline import run_ragas_evaluation\n",
    "from src import display_df"
   ]
  },
  {
   "cell_type": "markdown",
   "metadata": {},
   "source": [
    "### Load API keys"
   ]
  },
  {
   "cell_type": "code",
   "execution_count": 3,
   "metadata": {},
   "outputs": [],
   "source": [
    "openai_api_key = load_api_keys(\"OPENAI_API_KEY\")"
   ]
  },
  {
   "cell_type": "markdown",
   "metadata": {},
   "source": [
    "#### Initialize embeddings from huggingface - [all-mpnet-base-v2](https://huggingface.co/sentence-transformers/all-mpnet-base-v2)"
   ]
  },
  {
   "cell_type": "code",
   "execution_count": 5,
   "metadata": {},
   "outputs": [],
   "source": [
    "# embeddings=HuggingFaceEmbeddings(model_name='sentence-transformers/all-mpnet-base-v2')\n",
    "embeddings = OpenAIEmbeddings(api_key=openai_api_key, model='text-embedding-ada-002')"
   ]
  },
  {
   "cell_type": "markdown",
   "metadata": {},
   "source": [
    "#### Initialize RAG system with ensemble_retriever with BM25 retriever"
   ]
  },
  {
   "cell_type": "code",
   "execution_count": 6,
   "metadata": {},
   "outputs": [],
   "source": [
    "\n",
    "rag_system_ensemble = RAGSystem(\n",
    "  model_name = \"gpt-4o\",\n",
    "  existing_vectorstore = False,\n",
    "  use_ensemble_retriever = True,\n",
    "  embeddings=embeddings,\n",
    "  clear_store=True\n",
    ")"
   ]
  },
  {
   "cell_type": "code",
   "execution_count": 7,
   "metadata": {},
   "outputs": [
    {
     "name": "stdout",
     "output_type": "stream",
     "text": [
      "--Split 1000 documents into 5030 chunks.--\n"
     ]
    }
   ],
   "source": [
    "rag_system_ensemble.initialize()"
   ]
  },
  {
   "cell_type": "markdown",
   "metadata": {},
   "source": [
    "### Check the RAG system\n",
    "TODO - Write a test to check if RAG system is working properly - asserts for the output"
   ]
  },
  {
   "cell_type": "code",
   "execution_count": 8,
   "metadata": {},
   "outputs": [
    {
     "data": {
      "text/plain": [
       "{'question': \"Who was one of Putin's harshest critics?\",\n",
       " 'answer': \"Boris Nemtsov was one of Putin's harshest critics.\",\n",
       " 'contexts': ['Moscow (CNN)In his first substantive comments since Kremlin critic Boris Nemtsov\\'s death, Russian President Vladimir Putin on Wednesday called the killing a \"disgrace\" and lashed out at what he called \"extremists\" and protesters. Nemtsov had been one of Putin\\'s harshest critics and had been arrested several times for speaking against the President\\'s government. The 55-year-old opposition leader was gunned down Friday night in Moscow as he walked across a bridge about 100 meters (330 feet) from the Kremlin with his girlfriend, Ukrainian model Anna Duritskaya, 23. His slaying spurred thousands to rally in his honor in Moscow, with many calling him a true Russian patriot at his funeral Tuesday. Nemtsov isn\\'t the first of Putin\\'s critics to turn up dead, with others including Anna Politkovskaya (who was fatally shot) and Alexander Litvinenko (who was poisoned). The Kremlin has staunchly denied accusations that it\\'s targeting political opponents or had anything to do with the deaths. The',\n",
       "  'walked near the Kremlin with his girlfriend. A former deputy prime minister, he was one of Putin\\'s harshest critics and had been arrested several times for speaking against the government. No one has been arrested, though Russia\\'s Federal Security Service chief has said there are suspects. The Kremlin has suggested Nemtsov may have been killed by enemies of Russia intent on creating political discord, but many Nemtsov supporters suspect Putin\\'s administration of involvement. How Boris Nemtsov\\'s murder serves notice to Vladimir Putin\\'s enemies . Putin this week called the killing a \"disgrace\" and a tragedy, and he promised to bring those responsible to justice. But Nemtsova, 30, said she does not believe that will happen. She said investigators have not contacted her and she knows nothing of the case except what is in the media. \"I don\\'t know where his cellphone and his personal belongings are, so I know only those things which are released or published in the press and nothing else,',\n",
       "  'be heading an opposition party and do what I\\'m doing.\" Opinion: The complicated life and tragic death of Boris Nemtsov . Critics of Putin have in the past suffered miserable fates. Last year, a Moscow court sentenced five men to prison for the 2006 killing of Russian journalist and fierce Kremlin critic Anna Politkovskaya. Business magnate Mikhail Khodorkovsky accused Putin of corruption and spent 10 years in prison and labor camps. Late last year, Kremlin critic Alexey Navalny was found guilty of fraud in a politically charged trial. Russia\\'s official news agency reported Monday that a request by Navalny to attend Nemtsov\\'s funeral had been denied. And before his death, Nemtsov had been arrested several times for speaking against Putin\\'s government. Kasparov, chairman of the Human Rights Foundation\\'s International Council, suggested the killing was linked to the Kremlin\\'s own insecurity. \"If you are popular your critics don\\'t have to be shot down in front of the Kremlin,\" Kasparov',\n",
       "  \"(CNN)Slain Russian opposition leader Boris Nemtsov isn't the first critic of President Vladimir Putin to turn up dead. Some Putin opponents claim it isn't a coincidence that critics of the powerful leader and his government have been killed or landed behind bars. But the Kremlin has staunchly denied accusations that it's targeting political opponents or had anything to do with the deaths. Here's a look at some cases of outspoken critics of Putin's government who've ended up in exile, under house arrest, behind bars or dead. The business magnate backed an opposition party and accused Putin of corruption. He spent more than 10 years behind bars on charges of tax evasion and fraud. In statements to CNN, Khodorkovsky said his prosecution was part of a Kremlin campaign to destroy him and take control of Yukos, the oil company he built from privatization deals in the 1990s. The Kremlin denied the accusation. At the time of Khodorkovsky's sentencing, the Russian Foreign Ministry said in a\",\n",
       "  'Moscow (CNN)Russia\\'s president shares \"political responsibility\" for the assassination of opposition leader Boris Nemtsov, the late politician\\'s daughter said Friday in her first TV interview since his death in central Moscow last week. Zhanna Nemtsova, who said she has no faith in the Russian investigation into the killing, said she believes his death will only deter other opposition voices, rather than embolden them. \"I cannot blame him (Putin) directly, (but) I would say that our authorities, including the president of Russia, have political responsibility as the head of state,\" Nemtsova told CNN\\'s Matthew Chance. Nemtsova says she has no evidence about who ordered the murder, but that \"it\\'s evident that it\\'s politically motivated.\" Nemtsov, 55, was shot dead last Friday night as he walked near the Kremlin with his girlfriend. A former deputy prime minister, he was one of Putin\\'s harshest critics and had been arrested several times for speaking against the government. No one has',\n",
       "  'enemies. Born in the Black Sea resort of Sochi, Nemtsov began as an atomic physicist but rose to prominence in the early 1990s as the reformist governor of Nizhny Novgorod province. President Boris Yeltsin took a liking to him and brought him to Moscow. \"What a stubborn nature,\" he wrote of Nemtsov. \"Reminds me of myself.\" Nemtsov was the first person Yeltsin anointed as his political successor. (Unfortunately, he was not the last.) After Putin\\'s election in 2000, Nemtsov hoped at first that the new President would keep his promise to restore order while preserving democracy. Soon disillusioned, Nemtsov became one of Putin\\'s most biting critics. He was a natural politician -- emotional, gregarious, articulate. Like Yeltsin -- but unlike Putin -- he enjoyed meeting ordinary people and was energized by electoral campaigns. Some snickered at Nemtsov\\'s extravagant personality, his hints of bravado and weakness for the fairer sex. But his determination and talent commanded respect. Yet it',\n",
       "  \"Vladimir Putin's most outspoken critics, was shot in the back on a Moscow bridge as he walked with his girlfriend near the Kremlin in February 27. The three suspects visited by Tsvetkov deny they are guilty and have appealed their arrests, he said. Putin has condemned Nemtsov's killing and ordered three law enforcement agencies to investigate, the Kremlin has said. He also wrote to Nemtsov's mother, saying he shared her grief, and promised to bring those behind the killing to justice. CNN's Matthew Chance and Alla Eshchenko reported from Moscow, and Steve Almasy wrote from Atlanta. CNN's Elwyn Lopez and Karen Smith contributed to this report.\",\n",
       "  'his summer home in Crimea. He was visited by a group of high-ranking Soviet officials. The next day, the Russian people were told that Gorbachev was ill, and could not perform his duties. Gorbachev was held against his will. There was a coup in progress. Putin\\'s mentor, President Boris Yeltsin, also had a history of \"disappearing\" from view. He was really ill and/or drunk. Even if Putin is in perfect health and the social media whirlwind turns out to have just been an outlet for creativity, talk of Putin\\'s disappearance raises important questions. What would Russia become if he suddenly left power? Is there a successor in place? Is there anyone who would continue Putin\\'s policies? If there is a power vacuum, a conceivable scenario given just how thoroughly Putin dominates, what would the consequences be? Whatever Putin is doing at this exact moment -- whether he is hunting tigers, visiting with friends, or convalescing from an illness -- and no matter what he does in the days ahead,',\n",
       "  'blamed extremists and protesters who he said were trying to stir internal strife in Russia. Many opposition sympathizers and people close to Nemtsov have pointed the finger at Putin and the Russian government he leads. They note that Nemtsov -- the deputy prime minister under former President Boris Yeltsin -- is the latest in a list of Putin\\'s opponents who have been killed or imprisoned. Nemtsov had also been arrested several times for speaking against the government. In her first TV interview since her father\\'s death, Nemtsova told CNN that Putin shares \"political responsibility\" for her father\\'s assassination. She spoke from Germany. \"I don\\'t believe in the official investigation,\" she said Saturday. Other opposition figures previously jailed or killed include Anna Politkovskaya, a journalist critical of Russia\\'s war in Chechnya. She was gunned down at the entrance to her Moscow apartment in 2006. There was also business magnate Mikhail Khodorkovsky, who backed an opposition party']}"
      ]
     },
     "execution_count": 8,
     "metadata": {},
     "output_type": "execute_result"
    }
   ],
   "source": [
    "question = \"Who was one of Putin's harshest critics?\"\n",
    "result = rag_system_ensemble.rag_chain.invoke(question)\n",
    "result"
   ]
  },
  {
   "cell_type": "markdown",
   "metadata": {},
   "source": [
    "## RAGAS Pipeline testing the rag_chain"
   ]
  },
  {
   "cell_type": "code",
   "execution_count": 10,
   "metadata": {},
   "outputs": [
    {
     "name": "stdout",
     "output_type": "stream",
     "text": [
      "--LOADING EVALUATION DATA--\n",
      "--EVALUATING LOCALLY--\n",
      "--GETTING CONTEXT AND ANSWERS--\n"
     ]
    },
    {
     "data": {
      "application/vnd.jupyter.widget-view+json": {
       "model_id": "f9aa8088c8004daeb3683a30a89c10bb",
       "version_major": 2,
       "version_minor": 0
      },
      "text/plain": [
       "Evaluating:   0%|          | 0/80 [00:00<?, ?it/s]"
      ]
     },
     "metadata": {},
     "output_type": "display_data"
    },
    {
     "name": "stdout",
     "output_type": "stream",
     "text": [
      "--EVALUATION COMPLETE--\n",
      "--RESULTS SAVED--\n"
     ]
    }
   ],
   "source": [
    "rag_results = run_ragas_evaluation(\n",
    "  rag_chain=rag_system_ensemble.rag_chain,\n",
    "  save_results=True,\n",
    "  experiment_name=\"ensemble_retriever_with_bm25\"\n",
    ")\n"
   ]
  },
  {
   "cell_type": "code",
   "execution_count": 11,
   "metadata": {},
   "outputs": [],
   "source": [
    "# Save results to csv\n",
    "rag_results.to_csv(f\"data/evaluation_results/bm_{optimization_no}_{optimization_name}.csv\")"
   ]
  }
 ],
 "metadata": {
  "kernelspec": {
   "display_name": "rag-optimization-cnn-dailymail-hiPg4Kip-py3.10",
   "language": "python",
   "name": "python3"
  },
  "language_info": {
   "codemirror_mode": {
    "name": "ipython",
    "version": 3
   },
   "file_extension": ".py",
   "mimetype": "text/x-python",
   "name": "python",
   "nbconvert_exporter": "python",
   "pygments_lexer": "ipython3",
   "version": "3.10.12"
  }
 },
 "nbformat": 4,
 "nbformat_minor": 2
}
