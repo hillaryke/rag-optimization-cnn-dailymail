{
 "cells": [
  {
   "cell_type": "markdown",
   "metadata": {},
   "source": [
    "### Import modules"
   ]
  },
  {
   "cell_type": "code",
   "execution_count": 1,
   "metadata": {},
   "outputs": [],
   "source": [
    "import os\n",
    "import pandas as pd\n",
    "\n",
    "os.chdir(\"../../\")\n",
    "\n",
    "from datasets import load_dataset\n",
    "from langchain_openai import OpenAIEmbeddings, ChatOpenAI\n",
    "from langchain.vectorstores import Chroma\n",
    "from langchain.chains import RetrievalQA\n",
    "from langchain_community.document_loaders import HuggingFaceDatasetLoader\n",
    "from langchain_huggingface import HuggingFaceEmbeddings\n",
    "from dotenv import load_dotenv"
   ]
  },
  {
   "cell_type": "code",
   "execution_count": 2,
   "metadata": {},
   "outputs": [],
   "source": [
    "from src.rag_pipeline import chunk_by_recursive_split, RAGSystem\n",
    "from src.env_loader import load_api_keys\n",
    "from src.ragas.ragas_pipeline import run_ragas_evaluation\n",
    "from src import display_df"
   ]
  },
  {
   "cell_type": "markdown",
   "metadata": {},
   "source": [
    "#### Load API keys"
   ]
  },
  {
   "cell_type": "code",
   "execution_count": 3,
   "metadata": {},
   "outputs": [],
   "source": [
    "openai_api_key = load_api_keys(\"OPENAI_API_KEY\")"
   ]
  },
  {
   "cell_type": "markdown",
   "metadata": {},
   "source": [
    "### Rag Setup"
   ]
  },
  {
   "cell_type": "markdown",
   "metadata": {},
   "source": [
    "#### Initialize embeddings from huggingface - [all-mpnet-base-v2](https://huggingface.co/sentence-transformers/all-mpnet-base-v2)"
   ]
  },
  {
   "cell_type": "code",
   "execution_count": 4,
   "metadata": {},
   "outputs": [],
   "source": [
    "# embeddings=HuggingFaceEmbeddings(model_name='sentence-transformers/all-mpnet-base-v2')\n",
    "embeddings = OpenAIEmbeddings(api_key=openai_api_key, model='text-embedding-ada-002')"
   ]
  },
  {
   "cell_type": "markdown",
   "metadata": {},
   "source": [
    "#### Initialize RAG system with ensemble_retriever with BM25 retriever"
   ]
  },
  {
   "cell_type": "code",
   "execution_count": 5,
   "metadata": {},
   "outputs": [],
   "source": [
    "\n",
    "rag_system_ensemble = RAGSystem(\n",
    "  model_name = \"gpt-4o\",\n",
    "  existing_vectorstore = False,\n",
    "  # use_ensemble_retriever = True,\n",
    "  embeddings=embeddings,\n",
    "  chunk_size=500,\n",
    "  chunk_overlap=100,\n",
    "  clear_store=True\n",
    ")"
   ]
  },
  {
   "cell_type": "code",
   "execution_count": 6,
   "metadata": {},
   "outputs": [
    {
     "name": "stdout",
     "output_type": "stream",
     "text": [
      "--Split 1000 documents into 9817 chunks.--\n"
     ]
    }
   ],
   "source": [
    "rag_system_ensemble.initialize()"
   ]
  },
  {
   "cell_type": "markdown",
   "metadata": {},
   "source": [
    "### Check the RAG system\n",
    "TODO - Write a test to check if RAG system is working properly - asserts for the output"
   ]
  },
  {
   "cell_type": "code",
   "execution_count": 7,
   "metadata": {},
   "outputs": [
    {
     "data": {
      "text/plain": [
       "{'question': \"Who was one of Putin's harshest critics?\",\n",
       " 'answer': \"One of Putin's harshest critics was Mikhail Khodorkovsky.\",\n",
       " 'contexts': ['be heading an opposition party and do what I\\'m doing.\" Opinion: The complicated life and tragic death of Boris Nemtsov . Critics of Putin have in the past suffered miserable fates. Last year, a Moscow court sentenced five men to prison for the 2006 killing of Russian journalist and fierce Kremlin critic Anna Politkovskaya. Business magnate Mikhail Khodorkovsky accused Putin of corruption and spent 10 years in prison and labor camps. Late last year, Kremlin critic Alexey Navalny was found guilty',\n",
       "  'Other critics of Putin who ended up dead . Putin has a history of viciously attacking the most important person in any given group of enemies, in order to send a message to the rest of them. In 2003, he did this by arresting and imprisoning the richest oligarch in the country, Mikhail Khodorkovsky. When Khodorkovsky was put on trial in 2004, Putin allowed the television cameras film the wealthiest man in the country sitting in a cage. Imagine that you were the 17th richest man in Russia, and',\n",
       "  \"look at some cases of outspoken critics of Putin's government who've ended up in exile, under house arrest, behind bars or dead. The business magnate backed an opposition party and accused Putin of corruption. He spent more than 10 years behind bars on charges of tax evasion and fraud. In statements to CNN, Khodorkovsky said his prosecution was part of a Kremlin campaign to destroy him and take control of Yukos, the oil company he built from privatization deals in the 1990s. The Kremlin denied\",\n",
       "  \"a journalist critical of Russia's war in Chechnya. She was gunned down at the entrance to her Moscow apartment in 2006. There was also business magnate Mikhail Khodorkovsky, who backed an opposition party and accused Putin of corruption. Khodorkovsky landed in jail after a conviction on tax fraud, which he said was a ploy to take away his oil company. The government rejected the claim. Putin pardoned him in 2013. Former Russian security agent Alexander Litvinenko was poisoned by a lethal dose\",\n",
       "  'he said then. After Nemtsov was shot, Putin condemned the killing and ordered three law enforcement agencies to investigate the shooting, the Kremlin said in a statement. But critics of Putin have in the past suffered miserable fates. Last year, a Moscow court sentenced five men to prison for the 2006 killing of Russian journalist and fierce Kremlin critic Anna Politkovskaya. Business magnate Mikhail Khodorkovsky accused Putin of corruption and spent 10 years in prison and labor camps. Russian']}"
      ]
     },
     "execution_count": 7,
     "metadata": {},
     "output_type": "execute_result"
    }
   ],
   "source": [
    "question = \"Who was one of Putin's harshest critics?\"\n",
    "result = rag_system_ensemble.rag_chain.invoke(question)\n",
    "result"
   ]
  },
  {
   "cell_type": "markdown",
   "metadata": {},
   "source": [
    "## RAGAS Pipeline testing the rag_chain"
   ]
  },
  {
   "cell_type": "code",
   "execution_count": 8,
   "metadata": {},
   "outputs": [
    {
     "name": "stdout",
     "output_type": "stream",
     "text": [
      "--LOADING EVALUATION DATA--\n",
      "--EVALUATING LOCALLY--\n",
      "--GETTING CONTEXT AND ANSWERS--\n"
     ]
    },
    {
     "data": {
      "application/vnd.jupyter.widget-view+json": {
       "model_id": "f5e981536dc049a48e3d79dbe75107ed",
       "version_major": 2,
       "version_minor": 0
      },
      "text/plain": [
       "Evaluating:   0%|          | 0/80 [00:00<?, ?it/s]"
      ]
     },
     "metadata": {},
     "output_type": "display_data"
    },
    {
     "name": "stdout",
     "output_type": "stream",
     "text": [
      "--EVALUATION COMPLETE--\n",
      "--RESULTS SAVED--\n"
     ]
    }
   ],
   "source": [
    "rag_results = run_ragas_evaluation(\n",
    "  rag_chain=rag_system_ensemble.rag_chain,\n",
    "  save_results=True,\n",
    "  experiment_name=\"chunk_size_500_overlap_100\",\n",
    ")\n"
   ]
  },
  {
   "cell_type": "code",
   "execution_count": null,
   "metadata": {},
   "outputs": [],
   "source": []
  }
 ],
 "metadata": {
  "kernelspec": {
   "display_name": "rag-optimization-cnn-dailymail-hiPg4Kip-py3.10",
   "language": "python",
   "name": "python3"
  },
  "language_info": {
   "codemirror_mode": {
    "name": "ipython",
    "version": 3
   },
   "file_extension": ".py",
   "mimetype": "text/x-python",
   "name": "python",
   "nbconvert_exporter": "python",
   "pygments_lexer": "ipython3",
   "version": "3.10.12"
  }
 },
 "nbformat": 4,
 "nbformat_minor": 2
}
