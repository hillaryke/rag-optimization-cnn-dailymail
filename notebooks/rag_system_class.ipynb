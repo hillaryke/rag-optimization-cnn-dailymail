{
 "cells": [
  {
   "cell_type": "code",
   "execution_count": 1,
   "metadata": {},
   "outputs": [],
   "source": [
    "import os\n",
    "os.chdir(\"../\")\n",
    "import pandas as pd\n",
    "\n",
    "from typing import List, Dict\n",
    "from dotenv import load_dotenv\n",
    "from langchain_openai import OpenAIEmbeddings, ChatOpenAI\n",
    "from langchain_chroma import Chroma\n",
    "from langchain.text_splitter import RecursiveCharacterTextSplitter\n",
    "from langchain.chains import RetrievalQA"
   ]
  },
  {
   "cell_type": "code",
   "execution_count": 10,
   "metadata": {},
   "outputs": [],
   "source": [
    "\n",
    "def load_documents_from_csv(\n",
    "  file_path: str = \"data/cnn_dailymail_validation_subset.csv\", \n",
    "  page_content_column: str = \"article\"\n",
    ") -> List[str]:\n",
    "    df = pd.read_csv(file_path)\n",
    "    return df[page_content_column].tolist()\n",
    "\n",
    "CHROMA_PATH = \"chromadb\"\n",
    "\n",
    "class RAGSystem:\n",
    "    def __init__(self, \n",
    "                 model_name: str, \n",
    "                 source_file_path: \n",
    "                  str = \"data/cnn_dailymail_validation_subset.csv\"\n",
    "    ):\n",
    "        self.model_name = model_name\n",
    "        self.llm = None\n",
    "        self.source_file_path = source_file_path\n",
    "        self.documents = []\n",
    "        self.vectorstore = None\n",
    "        self.rag_chain = None\n",
    "\n",
    "    def load_documents(self, file_path: str = None):\n",
    "        documents = load_documents_from_csv(self.source_file_path)\n",
    "        self.documents = documents\n",
    "        \n",
    "    def prepare_documents(self, chunk_size: int = 1000, chunk_overlap: int = 200):\n",
    "        text_splitter = RecursiveCharacterTextSplitter(chunk_size=chunk_size, chunk_overlap=chunk_overlap)\n",
    "        return text_splitter.create_documents(self.documents)\n",
    "\n",
    "    def setup_vectorstore(self, split_docs: List[str]):\n",
    "        self.vectorstore = Chroma.from_documents(split_docs, OpenAIEmbeddings(), persist_directory=CHROMA_PATH)\n",
    "\n",
    "    def setup_llm(self):\n",
    "        llm = ChatOpenAI(model_name=self.model_name, temperature=0)\n",
    "        self.llm = llm\n",
    "        return llm\n",
    "\n",
    "    def setup_rag_chain(self):\n",
    "        retriever = self.vectorstore.as_retriever()\n",
    "        llm = self.setup_llm()\n",
    "        self.rag_chain = RetrievalQA.from_chain_type(\n",
    "            llm=llm,\n",
    "            chain_type=\"stuff\",\n",
    "            retriever=retriever,\n",
    "            return_source_documents=True\n",
    "        )\n",
    "\n",
    "    def query(self, question: str) -> str:\n",
    "        result = self.rag_chain.invoke(question)\n",
    "        return result[\"result\"]\n",
    "\n",
    "    def initialize(self):\n",
    "        self.load_documents()\n",
    "        split_docs = self.prepare_documents()\n",
    "        self.setup_vectorstore(split_docs)\n",
    "        self.setup_rag_chain()\n"
   ]
  },
  {
   "cell_type": "code",
   "execution_count": 11,
   "metadata": {},
   "outputs": [],
   "source": [
    "rag_system = RAGSystem(model_name=\"gpt-3.5-turbo\")"
   ]
  },
  {
   "cell_type": "code",
   "execution_count": 12,
   "metadata": {},
   "outputs": [],
   "source": [
    "rag_system.initialize()"
   ]
  },
  {
   "cell_type": "code",
   "execution_count": null,
   "metadata": {},
   "outputs": [],
   "source": []
  }
 ],
 "metadata": {
  "kernelspec": {
   "display_name": "rag-optimization-cnn-dailymail-hiPg4Kip-py3.10",
   "language": "python",
   "name": "python3"
  },
  "language_info": {
   "codemirror_mode": {
    "name": "ipython",
    "version": 3
   },
   "file_extension": ".py",
   "mimetype": "text/x-python",
   "name": "python",
   "nbconvert_exporter": "python",
   "pygments_lexer": "ipython3",
   "version": "3.10.12"
  }
 },
 "nbformat": 4,
 "nbformat_minor": 2
}
