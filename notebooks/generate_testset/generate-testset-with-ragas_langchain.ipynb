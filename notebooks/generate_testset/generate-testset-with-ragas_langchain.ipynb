{
 "cells": [
  {
   "cell_type": "markdown",
   "metadata": {},
   "source": [
    "### Create ragas TestsetGenerator\n"
   ]
  },
  {
   "cell_type": "markdown",
   "metadata": {},
   "source": [
    "#### import modules and setup env"
   ]
  },
  {
   "cell_type": "code",
   "execution_count": 3,
   "metadata": {},
   "outputs": [],
   "source": [
    "import os\n",
    "\n",
    "from ragas.testset.generator import TestsetGenerator\n",
    "from ragas.testset.evolutions import simple, reasoning, multi_context\n",
    "from langchain_openai import ChatOpenAI, OpenAIEmbeddings\n",
    "\n",
    "os.chdir(\"../../\")\n",
    "from src import load_api_keys, load_and_process_dataset\n",
    "\n",
    "load_api_keys()\n"
   ]
  },
  {
   "cell_type": "markdown",
   "metadata": {},
   "source": [
    "#### Define llms"
   ]
  },
  {
   "cell_type": "code",
   "execution_count": 4,
   "metadata": {},
   "outputs": [],
   "source": [
    "generator_llm = ChatOpenAI(model=\"gpt-3.5-turbo-16k\")\n",
    "critic_llm = ChatOpenAI(model=\"gpt-4o\")\n",
    "embeddings = OpenAIEmbeddings()"
   ]
  },
  {
   "cell_type": "markdown",
   "metadata": {},
   "source": [
    "#### Define generator and distributions"
   ]
  },
  {
   "cell_type": "code",
   "execution_count": 11,
   "metadata": {},
   "outputs": [],
   "source": [
    "from ragas.testset.generator import TestsetGenerator\n",
    "from ragas.testset.evolutions import simple, reasoning, multi_context\n",
    "\n",
    "generator = TestsetGenerator.from_langchain(\n",
    "    generator_llm,\n",
    "    critic_llm,\n",
    "    embeddings\n",
    ")\n",
    "\n",
    "# Change resulting question type distribution\n",
    "distributions = {\n",
    "    simple: 0.5,\n",
    "    multi_context: 0.25,\n",
    "    reasoning: 0.25\n",
    "}"
   ]
  },
  {
   "cell_type": "code",
   "execution_count": 6,
   "metadata": {},
   "outputs": [],
   "source": [
    "documents = load_and_process_dataset()"
   ]
  },
  {
   "cell_type": "markdown",
   "metadata": {},
   "source": [
    "#### Get a random sample of the documents"
   ]
  },
  {
   "cell_type": "code",
   "execution_count": 21,
   "metadata": {},
   "outputs": [],
   "source": [
    "import random\n",
    "from typing import List\n",
    "from langchain.docstore.document import Document\n",
    "\n",
    "def get_random_document_sample(documents: List[Document], sample_size: int = 3) -> List[Document]:\n",
    "    \"\"\"Shuffles a list of Document objects and returns a random sample.\n",
    "\n",
    "    Args:\n",
    "        documents (List[Document]): The list of Document objects to sample from.\n",
    "        sample_size (int, optional): The size of the sample to return. Defaults to 3.\n",
    "\n",
    "    Returns:\n",
    "        List[Document]: A list of Document objects, shuffled and sampled.\n",
    "    \"\"\"\n",
    "    \n",
    "    # Create a copy to avoid modifying the original list\n",
    "    shuffled_docs = documents.copy()  \n",
    "\n",
    "    # Shuffle the copy\n",
    "    random.shuffle(shuffled_docs)  \n",
    "\n",
    "    # Return a sample\n",
    "    return shuffled_docs[:sample_size]"
   ]
  },
  {
   "cell_type": "code",
   "execution_count": 22,
   "metadata": {},
   "outputs": [],
   "source": [
    "## Get a sample\n",
    "sample_docs = get_random_document_sample(documents, sample_size=3)"
   ]
  },
  {
   "cell_type": "code",
   "execution_count": 23,
   "metadata": {},
   "outputs": [
    {
     "data": {
      "text/plain": [
       "3"
      ]
     },
     "execution_count": 23,
     "metadata": {},
     "output_type": "execute_result"
    }
   ],
   "source": [
    "len(sample_docs)"
   ]
  },
  {
   "cell_type": "markdown",
   "metadata": {},
   "source": [
    "#### Generate the testset"
   ]
  },
  {
   "cell_type": "code",
   "execution_count": 24,
   "metadata": {},
   "outputs": [
    {
     "data": {
      "application/vnd.jupyter.widget-view+json": {
       "model_id": "150fcfdead154a34986308e14681093b",
       "version_major": 2,
       "version_minor": 0
      },
      "text/plain": [
       "embedding nodes:   0%|          | 0/12 [00:00<?, ?it/s]"
      ]
     },
     "metadata": {},
     "output_type": "display_data"
    },
    {
     "name": "stderr",
     "output_type": "stream",
     "text": [
      "Filename and doc_id are the same for all nodes.\n"
     ]
    },
    {
     "data": {
      "application/vnd.jupyter.widget-view+json": {
       "model_id": "c246f2550e344678ac63ee7512d40f27",
       "version_major": 2,
       "version_minor": 0
      },
      "text/plain": [
       "Generating:   0%|          | 0/2 [00:00<?, ?it/s]"
      ]
     },
     "metadata": {},
     "output_type": "display_data"
    }
   ],
   "source": [
    "# generate testset\n",
    "testset = generator.generate_with_langchain_docs(sample_docs, test_size=2, distributions=distributions, raise_exceptions=False)"
   ]
  },
  {
   "cell_type": "code",
   "execution_count": 25,
   "metadata": {},
   "outputs": [
    {
     "data": {
      "text/plain": [
       "TestDataset(test_data=[DataRow(question='How did Donald Trump help Rory McIlroy retrieve his golf club?', contexts=['(CNN)With a little bit of help from Donald Trump, Rory McIlroy was re-united with the golf club he famously threw into the lake at Doral -- but probably wished the golf-loving tycoon had not bothered. Never one to miss a media opportunity, Trump, the owner of the Blue Monster course in Florida, got a scuba diver to retrieve the 3-iron club which world No. 1 McIlroy had thought he had seen the last of during Friday\\'s second round at the WGC-Cadillac Championship. The 68-year-old American entrepreneur presented it to McIlroy before his final round Sunday, telling him that it was unlucky to continue playing with 13 clubs as against the usual 14 allowed under golf\\'s rules. \"He\\'s never one to miss an opportunity,\" McIlroy told the official PGA Tour website after his round. \"It was fine. It was good fun.\" Not that opportunity knocked for McIlroy when he chose the 3-iron to play his third shot to the 18th and final hole of the tournament and promptly found the water again. The Northern Irishman feigned to repeat his earlier antics, before placing it back in the bag. His mistake led to a double bogey six and left him tied for ninth at one-under-par, eight shots behind winner Dustin Johnson. McIlroy had promised to return the club to Trump after the round and was as good as his word. \"We\\'re thinking about auctioning it for charity or doing a trophy case for Doral, putting it on a beautiful mount,\" Trump said. Johnson is looking set to be one of McIlroy\\'s main rivals in the first major of the season, the U.S. Masters at Augusta, next month and his victory completed a triumphant comeback to the PGA Tour. The 30-year-old American took a six-month break from the Tour last July to cope with \"personal problems\" and returned earlier this year. Johnson finished with a three-under 69 in testing conditions to leave him one ahead of long-time leader JB Holmes and two clear of Bubba Watson, the reigning Masters champion. Johnson celebrated on the 18th with his fiancee Paulina Gretzky, the daughter of ice hockey legend Wayne, and their newly-born son.'], ground_truth='Donald Trump helped Rory McIlroy retrieve his golf club by getting a scuba diver to retrieve the 3-iron club from the lake at Doral. Trump presented the club to McIlroy before his final round and told him that it was unlucky to continue playing with 13 clubs. McIlroy promised to return the club to Trump after the round.', evolution_type='simple', metadata=[{'source': 'cnn_dailymail'}]), DataRow(question='What caused the collapse of the Iraqi army during the ISIS offensive in 2014?', contexts=['(CNN)The campaign to retake the city of Tikrit from ISIS, also known as the Islamic State, involves a curious mixture of Iraqi forces -- the army and air force, federal police, powerful Shia militia  as well as Sunni tribal fighters. It\\'s a cast of about 30,000 fighters with an opaque command structure. And that makes it tough to be precise about numbers -- but by several estimates only one-third of those fighters are from the regular army. A CNN team that\\'s seen the offensive at close quarters noted that Iraqi army commanders appeared to be taking a subordinate role to leaders of the Shia militia, notably Hadi al Ameri, leader of the Badr Organization. Iranian military advisers are on hand, and highly influential on the battlefield. As ISIS fighters in the area probably number in the low thousands, it might seem odd that the Iraqi army is unable to take them on alone. After all, the Iraqi Security Forces (ISF) received $20 billion of U.S. money between 2005 and 2012 -- for equipment, bases and training. So just why are the ISF incapable of reclaiming territory seized by ISIS? And how long will it be before they can stand on their own feet? The answers go back to the U.S. invasion of Iraq in 2003; Iraq\\'s military is starting over -- for the second or third time in a decade. One of the most controversial acts of the U.S.-led Coalition Provisional Authority, which ran Iraq following the ouster of Saddam Hussein, was to disband the Iraqi army. The decision, taken in May 2003, \"immediately created a large pool of unemployed and armed men who felt humiliated and hostile to the U.S. occupiers,\" as James P. Pfiffner put it in 2010. President George W. Bush told his biographer Robert Draper in 2006: \"The policy had been to keep the [Iraqi] army intact; didn\\'t happen.\" The reasons have been disputed ever since. In some places there were riots among demobilized soldiers; at the same time training of Iraqi police was a desperately slow process because of the rapidly growing insurgency. In 2004, as in 2014, the security forces buckled as a Sunni insurgency spread through northern and western Iraq. Billions of dollars were spent creating a new Iraqi army from scratch. But it took two years to build a force of just 40,000 men in three light infantry divisions, so unofficial sectarian militia filled the vacuum -- militia that never quite went away. Over a seven-year period, more than $4 billion was spent on renovating and building Iraqi bases. Logistical and maintenance support: $2.6 billion. Supply of equipment: $3.4 billion (in addition to what the Iraqis bought themselves.) Training and staffing the Iraqi police: a cool $9.4 billion. With U.S. assistance and the \"Sons of Iraq\" program to coax Sunni tribes into fighting al Qaeda in Iraq, violence did diminish in 2009 and 2010. But once U.S. forces left at the end of 2011, and with them intelligence-gathering and training programs, things began to unravel. By then, the Iraqi security forces in their many guises had become an unwieldy machine that was more a welfare program than a fighting force -- providing wages to soldiers who lacked motivation and were frequently absent from duty. The only effective units were special forces such as the Golden Division. Sophisticated U.S. equipment, such as M-1 Abrams battle tanks, was not maintained. Corruption was rife -- and political interference in the military grew exponentially. As then Prime Minister Nouri al-Maliki tightened his grip on power between 2006 and 2013, the high command of the Iraqi military became a political football -- with loyalty to al-Maliki prized above competence. He bypassed the defense and interior ministries and used elite units to pursue political enemies. The Institute for the Study of War reported in 2013, \"the lack of oversight on military appointments has allowed al-Maliki to choose his preferred officers (nearly all Shia) to head the most significant command positions in Iraq.\" Al-Maliki also began integrating Shia militia into army units. At the same time, the phenomenon of \"ghost soldiers\" went unchecked -- men who were either dead or AWOL but whose wages were still being paid, often to corrupt commanders. So the army, in numbers, looked much stronger than it was. In fact, by the time ISIS rolled south, the effective fighting force was less than a quarter of its peak strength of 400,000. Nearly half the army -- four divisions -- collapsed in short order as ISIS fighters stormed south from Syria in the early summer of 2014. ISIS used speed, discipline and ruthlessness in equal measure -- attributes the Iraqi army didn\\'t have. It had also cultivated allies among members of Sunni tribes ready to act as a fifth column, and its fearsome reputation for wholesale executions of prisoners led many soldiers to strip off their uniforms and flee. The desperate situation in the summer of 2014 and an imminent threat to'], ground_truth=\"The collapse of the Iraqi army during the ISIS offensive in 2014 was caused by several factors, including the disbandment of the Iraqi army by the U.S.-led Coalition Provisional Authority in 2003, the slow training of Iraqi police due to the growing insurgency, the creation of an unwieldy and corrupt security forces that prioritized loyalty to political leaders over competence, the integration of Shia militia into army units, the phenomenon of 'ghost soldiers' who were still being paid despite being dead or AWOL, and the lack of effective oversight on military appointments. These factors weakened the army and made it vulnerable to the speed, discipline, and ruthlessness of ISIS fighters, as well as their cultivation of allies among members of Sunni tribes.\", evolution_type='reasoning', metadata=[{'source': 'cnn_dailymail'}])])"
      ]
     },
     "execution_count": 25,
     "metadata": {},
     "output_type": "execute_result"
    }
   ],
   "source": [
    "testset"
   ]
  },
  {
   "cell_type": "code",
   "execution_count": 27,
   "metadata": {},
   "outputs": [],
   "source": [
    "## Convert the test set to pandas dataframe\n",
    "df = testset.to_pandas()"
   ]
  },
  {
   "cell_type": "markdown",
   "metadata": {},
   "source": [
    "#### Save the test set to a CSV"
   ]
  },
  {
   "cell_type": "code",
   "execution_count": 28,
   "metadata": {},
   "outputs": [],
   "source": [
    "import pandas as pd\n",
    "\n",
    "# Save to a CSV file\n",
    "df.to_csv(\"evaluation_set.csv\")  # index=False to avoid saving row numbers"
   ]
  },
  {
   "cell_type": "code",
   "execution_count": null,
   "metadata": {},
   "outputs": [],
   "source": []
  }
 ],
 "metadata": {
  "kernelspec": {
   "display_name": "rag-optimization-cnn-dailymail-hiPg4Kip-py3.10",
   "language": "python",
   "name": "python3"
  },
  "language_info": {
   "codemirror_mode": {
    "name": "ipython",
    "version": 3
   },
   "file_extension": ".py",
   "mimetype": "text/x-python",
   "name": "python",
   "nbconvert_exporter": "python",
   "pygments_lexer": "ipython3",
   "version": "3.10.12"
  }
 },
 "nbformat": 4,
 "nbformat_minor": 2
}
