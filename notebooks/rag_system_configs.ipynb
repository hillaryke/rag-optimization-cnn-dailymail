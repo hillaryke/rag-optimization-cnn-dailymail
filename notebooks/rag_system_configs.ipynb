{
 "cells": [
  {
   "cell_type": "code",
   "execution_count": 1,
   "id": "d4aec3cc",
   "metadata": {},
   "outputs": [
    {
     "name": "stdout",
     "output_type": "stream",
     "text": [
      "--SETUP RAG CHAIN--\n",
      "--RAGCHAIN SETUP COMPLETE!--\n"
     ]
    }
   ],
   "source": [
    "import os\n",
    "os.chdir(\"../\")\n",
    "\n",
    "from config.utils import load_config\n",
    "from src.rag_pipeline.rag_system import RAGSystem\n",
    "\n",
    "config = load_config(\"multiquery_500cs\")\n",
    "rag_system = RAGSystem(config=config)\n",
    "\n",
    "rag_system.initialize()"
   ]
  },
  {
   "cell_type": "code",
   "execution_count": 2,
   "id": "34424623",
   "metadata": {},
   "outputs": [
    {
     "data": {
      "text/plain": [
       "{'question': \"Who was one of Putin's harshest critics?\",\n",
       " 'answer': 'Boris Nemtsov',\n",
       " 'contexts': ['be heading an opposition party and do what I\\'m doing.\" Opinion: The complicated life and tragic death of Boris Nemtsov . Critics of Putin have in the past suffered miserable fates. Last year, a Moscow court sentenced five men to prison for the 2006 killing of Russian journalist and fierce Kremlin critic Anna Politkovskaya. Business magnate Mikhail Khodorkovsky accused Putin of corruption and spent 10 years in prison and labor camps. Late last year, Kremlin critic Alexey Navalny was found guilty of fraud in a politically charged trial. Russia\\'s official news agency reported Monday that a request by Navalny to attend Nemtsov\\'s funeral had been denied. And before his death, Nemtsov had been arrested several times for speaking against Putin\\'s government. Kasparov, chairman of the Human Rights Foundation\\'s International Council, suggested the killing was linked to the Kremlin\\'s own insecurity. \"If you are popular your critics don\\'t have to be shot down in front of the Kremlin,\" Kasparov',\n",
       "  \"(CNN)Slain Russian opposition leader Boris Nemtsov isn't the first critic of President Vladimir Putin to turn up dead. Some Putin opponents claim it isn't a coincidence that critics of the powerful leader and his government have been killed or landed behind bars. But the Kremlin has staunchly denied accusations that it's targeting political opponents or had anything to do with the deaths. Here's a look at some cases of outspoken critics of Putin's government who've ended up in exile, under house arrest, behind bars or dead. The business magnate backed an opposition party and accused Putin of corruption. He spent more than 10 years behind bars on charges of tax evasion and fraud. In statements to CNN, Khodorkovsky said his prosecution was part of a Kremlin campaign to destroy him and take control of Yukos, the oil company he built from privatization deals in the 1990s. The Kremlin denied the accusation. At the time of Khodorkovsky's sentencing, the Russian Foreign Ministry said in a\",\n",
       "  'Moscow (CNN)In his first substantive comments since Kremlin critic Boris Nemtsov\\'s death, Russian President Vladimir Putin on Wednesday called the killing a \"disgrace\" and lashed out at what he called \"extremists\" and protesters. Nemtsov had been one of Putin\\'s harshest critics and had been arrested several times for speaking against the President\\'s government. The 55-year-old opposition leader was gunned down Friday night in Moscow as he walked across a bridge about 100 meters (330 feet) from the Kremlin with his girlfriend, Ukrainian model Anna Duritskaya, 23. His slaying spurred thousands to rally in his honor in Moscow, with many calling him a true Russian patriot at his funeral Tuesday. Nemtsov isn\\'t the first of Putin\\'s critics to turn up dead, with others including Anna Politkovskaya (who was fatally shot) and Alexander Litvinenko (who was poisoned). The Kremlin has staunchly denied accusations that it\\'s targeting political opponents or had anything to do with the deaths. The',\n",
       "  \"Vladimir Putin's most outspoken critics, was shot in the back on a Moscow bridge as he walked with his girlfriend near the Kremlin in February 27. The three suspects visited by Tsvetkov deny they are guilty and have appealed their arrests, he said. Putin has condemned Nemtsov's killing and ordered three law enforcement agencies to investigate, the Kremlin has said. He also wrote to Nemtsov's mother, saying he shared her grief, and promised to bring those behind the killing to justice. CNN's Matthew Chance and Alla Eshchenko reported from Moscow, and Steve Almasy wrote from Atlanta. CNN's Elwyn Lopez and Karen Smith contributed to this report.\",\n",
       "  'blamed extremists and protesters who he said were trying to stir internal strife in Russia. Many opposition sympathizers and people close to Nemtsov have pointed the finger at Putin and the Russian government he leads. They note that Nemtsov -- the deputy prime minister under former President Boris Yeltsin -- is the latest in a list of Putin\\'s opponents who have been killed or imprisoned. Nemtsov had also been arrested several times for speaking against the government. In her first TV interview since her father\\'s death, Nemtsova told CNN that Putin shares \"political responsibility\" for her father\\'s assassination. She spoke from Germany. \"I don\\'t believe in the official investigation,\" she said Saturday. Other opposition figures previously jailed or killed include Anna Politkovskaya, a journalist critical of Russia\\'s war in Chechnya. She was gunned down at the entrance to her Moscow apartment in 2006. There was also business magnate Mikhail Khodorkovsky, who backed an opposition party']}"
      ]
     },
     "execution_count": 2,
     "metadata": {},
     "output_type": "execute_result"
    }
   ],
   "source": [
    "question = \"Who was one of Putin's harshest critics?\"\n",
    "result = rag_system.rag_chain.invoke(question)\n",
    "result"
   ]
  },
  {
   "cell_type": "markdown",
   "id": "cc6ab098",
   "metadata": {},
   "source": [
    "### Evaluation with RAGAS"
   ]
  },
  {
   "cell_type": "code",
   "execution_count": 3,
   "id": "aa8c88b4",
   "metadata": {},
   "outputs": [
    {
     "name": "stdout",
     "output_type": "stream",
     "text": [
      "--LOADING EVALUATION DATA--\n",
      "--EVALUATING LOCALLY--\n",
      "--GETTING CONTEXT AND ANSWERS--\n"
     ]
    },
    {
     "data": {
      "application/vnd.jupyter.widget-view+json": {
       "model_id": "ab24ad15f5c24048b159fa8cddaa0a4e",
       "version_major": 2,
       "version_minor": 0
      },
      "text/plain": [
       "Evaluating:   0%|          | 0/80 [00:00<?, ?it/s]"
      ]
     },
     "metadata": {},
     "output_type": "display_data"
    },
    {
     "name": "stderr",
     "output_type": "stream",
     "text": [
      "No statements were generated from the answer.\n",
      "No statements were generated from the answer.\n"
     ]
    },
    {
     "name": "stdout",
     "output_type": "stream",
     "text": [
      "--EVALUATION COMPLETE--\n",
      "--RESULTS SAVED--\n"
     ]
    }
   ],
   "source": [
    "from src.ragas.ragas_pipeline import run_ragas_evaluation\n",
    "rag_results = run_ragas_evaluation(\n",
    "  rag_chain=rag_system.rag_chain,\n",
    "  save_results=True,\n",
    "  experiment_name=\"ensemble_prompt_1\"\n",
    ")\n"
   ]
  },
  {
   "cell_type": "code",
   "execution_count": null,
   "id": "6510441e",
   "metadata": {},
   "outputs": [],
   "source": []
  }
 ],
 "metadata": {
  "kernelspec": {
   "display_name": "Python 3 (ipykernel)",
   "language": "python",
   "name": "python3"
  },
  "language_info": {
   "codemirror_mode": {
    "name": "ipython",
    "version": 3
   },
   "file_extension": ".py",
   "mimetype": "text/x-python",
   "name": "python",
   "nbconvert_exporter": "python",
   "pygments_lexer": "ipython3",
   "version": "3.10.12"
  }
 },
 "nbformat": 4,
 "nbformat_minor": 5
}
