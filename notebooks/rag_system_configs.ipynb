{
 "cells": [
  {
   "cell_type": "code",
   "execution_count": 1,
   "id": "d4aec3cc",
   "metadata": {},
   "outputs": [
    {
     "name": "stdout",
     "output_type": "stream",
     "text": [
      "--SETUP NEW VECTORSTORE--\n",
      "--Split 1000 documents into 9817 chunks.--\n",
      "--documents_no: 9817\n",
      "--USING MULTIQUERY RETRIEVER--\n",
      "--SETUP RAG CHAIN--\n",
      "--RAGCHAIN SETUP COMPLETE!--\n"
     ]
    }
   ],
   "source": [
    "import os\n",
    "os.chdir(\"../\")\n",
    "\n",
    "from config.utils import load_config\n",
    "from src.rag_pipeline.rag_system import RAGSystem\n",
    "\n",
    "config = load_config(\"multiquery_500cs\")\n",
    "rag_system = RAGSystem(config=config)\n",
    "\n",
    "rag_system.initialize()"
   ]
  },
  {
   "cell_type": "code",
   "execution_count": 2,
   "id": "34424623",
   "metadata": {},
   "outputs": [
    {
     "data": {
      "text/plain": [
       "{'question': \"Who was one of Putin's harshest critics?\",\n",
       " 'answer': \"One of Putin's harshest critics was Mikhail Khodorkovsky. He accused Putin of corruption and spent over 10 years in prison on charges of tax evasion and fraud, which he claimed were politically motivated.\",\n",
       " 'contexts': ['be heading an opposition party and do what I\\'m doing.\" Opinion: The complicated life and tragic death of Boris Nemtsov . Critics of Putin have in the past suffered miserable fates. Last year, a Moscow court sentenced five men to prison for the 2006 killing of Russian journalist and fierce Kremlin critic Anna Politkovskaya. Business magnate Mikhail Khodorkovsky accused Putin of corruption and spent 10 years in prison and labor camps. Late last year, Kremlin critic Alexey Navalny was found guilty',\n",
       "  'exploits, captured on film and released to the media, have been many. And he enjoys a whopping 86% approval rating, although some critics question the validity of polling they say is carried out in a climate where people are afraid to voice opposition to Putin\\'s government. \"Moscow always has been a center for rumors and speculation,\" said Jill Dougherty, an expert on Russia at the Woodrow Wilson International Center for Scholars and a former CNN correspondent. \"As soon as the President does',\n",
       "  'he said then. After Nemtsov was shot, Putin condemned the killing and ordered three law enforcement agencies to investigate the shooting, the Kremlin said in a statement. But critics of Putin have in the past suffered miserable fates. Last year, a Moscow court sentenced five men to prison for the 2006 killing of Russian journalist and fierce Kremlin critic Anna Politkovskaya. Business magnate Mikhail Khodorkovsky accused Putin of corruption and spent 10 years in prison and labor camps. Russian',\n",
       "  'Other critics of Putin who ended up dead . Putin has a history of viciously attacking the most important person in any given group of enemies, in order to send a message to the rest of them. In 2003, he did this by arresting and imprisoning the richest oligarch in the country, Mikhail Khodorkovsky. When Khodorkovsky was put on trial in 2004, Putin allowed the television cameras film the wealthiest man in the country sitting in a cage. Imagine that you were the 17th richest man in Russia, and',\n",
       "  'Every important decision is made by him. Putin rules in the old-fashioned style of a personality cult. His approval ratings are stratospheric, even if his brazen policies would warrant more significant levels of disagreement. Approval ratings nearing 90% are the product of suppression of dissent and media maneuvers demonizing, ridiculing, and ultimately silencing critics. The system requires propaganda and image control. It needs Putin to be larger than life. The recent murder of Boris Nemtsov,',\n",
       "  'at the Kremlin\\'s current policies on Ukraine. Other prominent Russian figures at the service included Deputy Prime Minister Arkady Dvorkovich, Prime Minister Dmitry Medvedev\\'s spokeswoman Natalya Timakova, and former Finance Minister Alexey Kudrin. Russian economist Yevgeny Yasin, who served as economy minister between 1994 and 1997 and is now an academic, said: \"Nemtsov always said everything that others were afraid to say.\" Evgeniya Albats, editor-in-chief of The New Times magazine, described',\n",
       "  \"out, in damning detail, the truth behind the personal wealth of Putin and his cronies; one doesn't need to be an expert to see the similarities with former Ukrainian President Viktor Yanukovych, who fled Kiev following popular uprisings in February of last year. Nemtsov was also preparing a paper documenting the experiences of Russian soldiers in Ukraine -- one that could have dealt a catastrophic blow to the Russian propaganda machine about the Ukrainian conflict. And he was instrumental in\",\n",
       "  \"a journalist critical of Russia's war in Chechnya. She was gunned down at the entrance to her Moscow apartment in 2006. There was also business magnate Mikhail Khodorkovsky, who backed an opposition party and accused Putin of corruption. Khodorkovsky landed in jail after a conviction on tax fraud, which he said was a ploy to take away his oil company. The government rejected the claim. Putin pardoned him in 2013. Former Russian security agent Alexander Litvinenko was poisoned by a lethal dose\",\n",
       "  '\"Due to the policy of Vladimir Putin, a country with unparalleled potential is sinking, an economy which accumulated untold currency reserves is collapsing,\" he said. The former deputy prime minister accused Putin of using \"Goebbels-style propaganda\" -- a reference to Joseph Goebbels, Nazi Germany\\'s propaganda minister -- to brainwash his countrymen. Nemtsov was scheduled to lead an opposition rally in Moscow last Sunday. But two days before the event, he was shot dead as he walked home from',\n",
       "  \"look at some cases of outspoken critics of Putin's government who've ended up in exile, under house arrest, behind bars or dead. The business magnate backed an opposition party and accused Putin of corruption. He spent more than 10 years behind bars on charges of tax evasion and fraud. In statements to CNN, Khodorkovsky said his prosecution was part of a Kremlin campaign to destroy him and take control of Yukos, the oil company he built from privatization deals in the 1990s. The Kremlin denied\"]}"
      ]
     },
     "execution_count": 2,
     "metadata": {},
     "output_type": "execute_result"
    }
   ],
   "source": [
    "question = \"Who was one of Putin's harshest critics?\"\n",
    "result = rag_system.rag_chain.invoke(question)\n",
    "result"
   ]
  },
  {
   "cell_type": "markdown",
   "id": "cc6ab098",
   "metadata": {},
   "source": [
    "### Evaluation with RAGAS"
   ]
  },
  {
   "cell_type": "code",
   "execution_count": 3,
   "id": "aa8c88b4",
   "metadata": {},
   "outputs": [
    {
     "name": "stdout",
     "output_type": "stream",
     "text": [
      "--LOADING EVALUATION DATA--\n",
      "--EVALUATING LOCALLY--\n",
      "--GETTING CONTEXT AND ANSWERS--\n"
     ]
    },
    {
     "data": {
      "application/vnd.jupyter.widget-view+json": {
       "model_id": "0687498a12734bda922d74810f5aef7d",
       "version_major": 2,
       "version_minor": 0
      },
      "text/plain": [
       "Evaluating:   0%|          | 0/80 [00:00<?, ?it/s]"
      ]
     },
     "metadata": {},
     "output_type": "display_data"
    },
    {
     "name": "stdout",
     "output_type": "stream",
     "text": [
      "--EVALUATION COMPLETE--\n",
      "--RESULTS SAVED--\n"
     ]
    }
   ],
   "source": [
    "from src.ragas.ragas_pipeline import run_ragas_evaluation\n",
    "experiment_name = \"multiquery_500cs100ol_querygen_gpt3-5\"\n",
    "rag_results = run_ragas_evaluation(\n",
    "  rag_chain=rag_system.rag_chain,\n",
    "  save_results=True,\n",
    "  experiment_name=experiment_name\n",
    ")\n"
   ]
  },
  {
   "cell_type": "markdown",
   "id": "cc9f6f4b",
   "metadata": {},
   "source": [
    "### Analyze the results"
   ]
  },
  {
   "cell_type": "code",
   "execution_count": 4,
   "id": "6510441e",
   "metadata": {},
   "outputs": [],
   "source": [
    "from src.benchmark_analysis import update_json_with_metrics\n",
    "file_name = f\"bm_{experiment_name}_results.csv\"\n",
    "file_path = f\"data/ragas_results/{file_name}\"\n",
    "\n",
    "update_json_with_metrics(file_path, \"data/benchmark_results/summary_stats.json\")"
   ]
  },
  {
   "cell_type": "code",
   "execution_count": null,
   "id": "fbc71540",
   "metadata": {},
   "outputs": [],
   "source": []
  }
 ],
 "metadata": {
  "kernelspec": {
   "display_name": "Python 3 (ipykernel)",
   "language": "python",
   "name": "python3"
  },
  "language_info": {
   "codemirror_mode": {
    "name": "ipython",
    "version": 3
   },
   "file_extension": ".py",
   "mimetype": "text/x-python",
   "name": "python",
   "nbconvert_exporter": "python",
   "pygments_lexer": "ipython3",
   "version": "3.10.12"
  }
 },
 "nbformat": 4,
 "nbformat_minor": 5
}
