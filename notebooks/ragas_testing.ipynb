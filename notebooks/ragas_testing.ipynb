{
 "cells": [
  {
   "cell_type": "markdown",
   "metadata": {},
   "source": [
    "### Import modules"
   ]
  },
  {
   "cell_type": "code",
   "execution_count": 1,
   "metadata": {},
   "outputs": [],
   "source": [
    "import os\n",
    "import pandas as pd\n",
    "\n",
    "from langchain_openai import OpenAIEmbeddings, ChatOpenAI\n",
    "from langchain_chroma import Chroma\n",
    "from langchain.chains import RetrievalQA\n",
    "\n",
    "os.chdir(\"../\")\n",
    "from src.ragas.ragas_utils import run_evaluation, upload_csv_dataset_to_langsmith\n",
    "from src import display_df\n",
    "\n"
   ]
  },
  {
   "cell_type": "markdown",
   "metadata": {},
   "source": [
    "### Load the existing Chroma instance"
   ]
  },
  {
   "cell_type": "code",
   "execution_count": 3,
   "metadata": {},
   "outputs": [],
   "source": [
    "embeddings = OpenAIEmbeddings()\n",
    "vectorstore = Chroma(persist_directory=\"chroma\", embedding_function=embeddings)"
   ]
  },
  {
   "cell_type": "markdown",
   "metadata": {},
   "source": [
    "#### Create retriever"
   ]
  },
  {
   "cell_type": "code",
   "execution_count": 4,
   "metadata": {},
   "outputs": [],
   "source": [
    "# Create retriever\n",
    "retriever = vectorstore.as_retriever(search_kwargs={\"k\": 3})"
   ]
  },
  {
   "cell_type": "code",
   "execution_count": 6,
   "metadata": {},
   "outputs": [],
   "source": [
    "# Initialize language model\n",
    "llm = ChatOpenAI(model_name=\"gpt-4o\", temperature=0)"
   ]
  },
  {
   "cell_type": "markdown",
   "metadata": {},
   "source": [
    "#### Create a RAG chain"
   ]
  },
  {
   "cell_type": "code",
   "execution_count": 7,
   "metadata": {},
   "outputs": [],
   "source": [
    "rag_chain = RetrievalQA.from_chain_type(\n",
    "  llm = llm,\n",
    "  chain_type = \"stuff\",\n",
    "  retriever = retriever,\n",
    "  return_source_documents = True,\n",
    ")"
   ]
  },
  {
   "cell_type": "code",
   "execution_count": 35,
   "metadata": {},
   "outputs": [
    {
     "data": {
      "text/plain": [
       "RetrievalQA(combine_documents_chain=StuffDocumentsChain(llm_chain=LLMChain(prompt=ChatPromptTemplate(input_variables=['context', 'question'], messages=[SystemMessagePromptTemplate(prompt=PromptTemplate(input_variables=['context'], template=\"Use the following pieces of context to answer the user's question. \\nIf you don't know the answer, just say that you don't know, don't try to make up an answer.\\n----------------\\n{context}\")), HumanMessagePromptTemplate(prompt=PromptTemplate(input_variables=['question'], template='{question}'))]), llm=ChatOpenAI(client=<openai.resources.chat.completions.Completions object at 0x7f200c599c30>, async_client=<openai.resources.chat.completions.AsyncCompletions object at 0x7f200c59b550>, model_name='gpt-4o', temperature=0.0, openai_api_key=SecretStr('**********'), openai_proxy='')), document_variable_name='context'), return_source_documents=True, retriever=VectorStoreRetriever(tags=['Chroma', 'OpenAIEmbeddings'], vectorstore=<langchain_chroma.vectorstores.Chroma object at 0x7f20515f3bb0>, search_kwargs={'k': 3}))"
      ]
     },
     "execution_count": 35,
     "metadata": {},
     "output_type": "execute_result"
    }
   ],
   "source": [
    "rag_chain"
   ]
  },
  {
   "cell_type": "markdown",
   "metadata": {},
   "source": [
    "## Evaluation the RAG system using RAGAS"
   ]
  },
  {
   "cell_type": "markdown",
   "metadata": {},
   "source": [
    "### Run the evalution"
   ]
  },
  {
   "cell_type": "code",
   "execution_count": 14,
   "metadata": {},
   "outputs": [
    {
     "data": {
      "application/vnd.jupyter.widget-view+json": {
       "model_id": "81ac99cfa7834a15a4504abcfd562e0d",
       "version_major": 2,
       "version_minor": 0
      },
      "text/plain": [
       "Evaluating:   0%|          | 0/20 [00:00<?, ?it/s]"
      ]
     },
     "metadata": {},
     "output_type": "display_data"
    }
   ],
   "source": [
    "result = run_evaluation(rag_chain)"
   ]
  },
  {
   "cell_type": "code",
   "execution_count": 15,
   "metadata": {},
   "outputs": [
    {
     "data": {
      "text/html": [
       "<div>\n",
       "<style scoped>\n",
       "    .dataframe tbody tr th:only-of-type {\n",
       "        vertical-align: middle;\n",
       "    }\n",
       "\n",
       "    .dataframe tbody tr th {\n",
       "        vertical-align: top;\n",
       "    }\n",
       "\n",
       "    .dataframe thead th {\n",
       "        text-align: right;\n",
       "    }\n",
       "</style>\n",
       "<table border=\"1\" class=\"dataframe\">\n",
       "  <thead>\n",
       "    <tr style=\"text-align: right;\">\n",
       "      <th></th>\n",
       "      <th>question</th>\n",
       "      <th>contexts</th>\n",
       "      <th>answer</th>\n",
       "      <th>ground_truth</th>\n",
       "      <th>answer_correctness</th>\n",
       "      <th>faithfulness</th>\n",
       "      <th>answer_relevancy</th>\n",
       "      <th>context_precision</th>\n",
       "    </tr>\n",
       "  </thead>\n",
       "  <tbody>\n",
       "    <tr>\n",
       "      <th>0</th>\n",
       "      <td>What upcoming animated project will feature Ad...</td>\n",
       "      <td>[(The Hollywood Reporter)The skies over Gotham...</td>\n",
       "      <td>The upcoming animated project that will featur...</td>\n",
       "      <td>Adam West and Burt Ward will be reprising thei...</td>\n",
       "      <td>0.806599</td>\n",
       "      <td>1.0</td>\n",
       "      <td>0.000000</td>\n",
       "      <td>1.000000</td>\n",
       "    </tr>\n",
       "    <tr>\n",
       "      <th>1</th>\n",
       "      <td>What animated project did Adam West and Burt W...</td>\n",
       "      <td>[(The Hollywood Reporter)The skies over Gotham...</td>\n",
       "      <td>Adam West and Burt Ward announced an upcoming ...</td>\n",
       "      <td>Adam West and Burt Ward announced a new animat...</td>\n",
       "      <td>0.842686</td>\n",
       "      <td>1.0</td>\n",
       "      <td>0.000000</td>\n",
       "      <td>1.000000</td>\n",
       "    </tr>\n",
       "    <tr>\n",
       "      <th>2</th>\n",
       "      <td>What event is Rory McIlroy preparing for after...</td>\n",
       "      <td>[for 2014-15. He hurt his shoulder in December...</td>\n",
       "      <td>Rory McIlroy is preparing for Arnold Palmer's ...</td>\n",
       "      <td>Rory McIlroy is preparing for the U.S. Masters...</td>\n",
       "      <td>0.233269</td>\n",
       "      <td>0.5</td>\n",
       "      <td>0.863586</td>\n",
       "      <td>0.833333</td>\n",
       "    </tr>\n",
       "    <tr>\n",
       "      <th>3</th>\n",
       "      <td>How did Donald Trump help Rory McIlroy retriev...</td>\n",
       "      <td>[(CNN)With a little bit of help from Donald Tr...</td>\n",
       "      <td>Donald Trump, the owner of the Blue Monster co...</td>\n",
       "      <td>Donald Trump helped Rory McIlroy retrieve his ...</td>\n",
       "      <td>0.613383</td>\n",
       "      <td>1.0</td>\n",
       "      <td>0.893972</td>\n",
       "      <td>1.000000</td>\n",
       "    </tr>\n",
       "    <tr>\n",
       "      <th>4</th>\n",
       "      <td>What caused the collapse of the Iraqi army dur...</td>\n",
       "      <td>[of 2014. ISIS used speed, discipline and ruth...</td>\n",
       "      <td>The collapse of the Iraqi army during the ISIS...</td>\n",
       "      <td>The collapse of the Iraqi army during the ISIS...</td>\n",
       "      <td>0.770911</td>\n",
       "      <td>1.0</td>\n",
       "      <td>0.975391</td>\n",
       "      <td>1.000000</td>\n",
       "    </tr>\n",
       "  </tbody>\n",
       "</table>\n",
       "</div>"
      ],
      "text/plain": [
       "                                            question  \\\n",
       "0  What upcoming animated project will feature Ad...   \n",
       "1  What animated project did Adam West and Burt W...   \n",
       "2  What event is Rory McIlroy preparing for after...   \n",
       "3  How did Donald Trump help Rory McIlroy retriev...   \n",
       "4  What caused the collapse of the Iraqi army dur...   \n",
       "\n",
       "                                            contexts  \\\n",
       "0  [(The Hollywood Reporter)The skies over Gotham...   \n",
       "1  [(The Hollywood Reporter)The skies over Gotham...   \n",
       "2  [for 2014-15. He hurt his shoulder in December...   \n",
       "3  [(CNN)With a little bit of help from Donald Tr...   \n",
       "4  [of 2014. ISIS used speed, discipline and ruth...   \n",
       "\n",
       "                                              answer  \\\n",
       "0  The upcoming animated project that will featur...   \n",
       "1  Adam West and Burt Ward announced an upcoming ...   \n",
       "2  Rory McIlroy is preparing for Arnold Palmer's ...   \n",
       "3  Donald Trump, the owner of the Blue Monster co...   \n",
       "4  The collapse of the Iraqi army during the ISIS...   \n",
       "\n",
       "                                        ground_truth  answer_correctness  \\\n",
       "0  Adam West and Burt Ward will be reprising thei...            0.806599   \n",
       "1  Adam West and Burt Ward announced a new animat...            0.842686   \n",
       "2  Rory McIlroy is preparing for the U.S. Masters...            0.233269   \n",
       "3  Donald Trump helped Rory McIlroy retrieve his ...            0.613383   \n",
       "4  The collapse of the Iraqi army during the ISIS...            0.770911   \n",
       "\n",
       "   faithfulness  answer_relevancy  context_precision  \n",
       "0           1.0          0.000000           1.000000  \n",
       "1           1.0          0.000000           1.000000  \n",
       "2           0.5          0.863586           0.833333  \n",
       "3           1.0          0.893972           1.000000  \n",
       "4           1.0          0.975391           1.000000  "
      ]
     },
     "execution_count": 15,
     "metadata": {},
     "output_type": "execute_result"
    }
   ],
   "source": [
    "result.to_pandas().head()"
   ]
  },
  {
   "cell_type": "markdown",
   "metadata": {},
   "source": [
    "### Upload evaluation set to langsmith\n"
   ]
  },
  {
   "cell_type": "code",
   "execution_count": 23,
   "metadata": {},
   "outputs": [
    {
     "name": "stdout",
     "output_type": "stream",
     "text": [
      "Created a new dataset 'cnn_dailymail_testset'. Dataset is accessible at https://smith.langchain.com/o/6691a6dd-a70e-56c0-8f45-a1f64338d797/datasets/920a9200-8c8c-46e5-a629-73bb91acaff9\n"
     ]
    }
   ],
   "source": [
    "dataset_name = \"cnn_dailymail_testset\"\n",
    "dataset_desc = \"Synthetic testset data for Huggingface CNN Dailymail dataset.\"\n",
    "\n",
    "dataset = upload_csv_dataset_to_langsmith(dataset_name=dataset_name, dataset_desc=dataset_desc)"
   ]
  },
  {
   "cell_type": "code",
   "execution_count": 34,
   "metadata": {},
   "outputs": [
    {
     "name": "stdout",
     "output_type": "stream",
     "text": [
      "| answer_correctness   | faithfulness   | answer_relevancy   | context_precision   |\n",
      "|:---------------------|:---------------|:-------------------|:--------------------|\n",
      "| 0.806599             | 1              | 0                  | 1                   |\n",
      "| 0.842686             | 1              | 0                  | 1                   |\n",
      "| 0.233269             | 0.5            | 0.863586           | 0.833333            |\n",
      "| 0.613383             | 1              | 0.893972           | 1                   |\n",
      "| 0.770911             | 1              | 0.975391           | 1                   |\n"
     ]
    }
   ],
   "source": [
    "# remove unnecessary columns\n",
    "results_df = result.to_pandas()\n",
    "metrics_scores = results_df.drop(columns=[\"contexts\", \"Unnamed: 0\", \"question\", \"answer\", \"ground_truth\"])\n",
    "\n",
    "display_df(metrics_scores)"
   ]
  },
  {
   "cell_type": "code",
   "execution_count": null,
   "metadata": {},
   "outputs": [],
   "source": []
  },
  {
   "cell_type": "code",
   "execution_count": null,
   "metadata": {},
   "outputs": [],
   "source": []
  }
 ],
 "metadata": {
  "kernelspec": {
   "display_name": "rag-optimization-cnn-dailymail-hiPg4Kip-py3.10",
   "language": "python",
   "name": "python3"
  },
  "language_info": {
   "codemirror_mode": {
    "name": "ipython",
    "version": 3
   },
   "file_extension": ".py",
   "mimetype": "text/x-python",
   "name": "python",
   "nbconvert_exporter": "python",
   "pygments_lexer": "ipython3",
   "version": "3.10.12"
  }
 },
 "nbformat": 4,
 "nbformat_minor": 2
}
