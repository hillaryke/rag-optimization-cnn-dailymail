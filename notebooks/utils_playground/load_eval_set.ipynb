{
 "cells": [
  {
   "cell_type": "code",
   "execution_count": 1,
   "metadata": {},
   "outputs": [],
   "source": [
    "import pandas as pd\n",
    "import os\n",
    "os.chdir(\"../../\")\n",
    "\n",
    "def load_evaluation_data(csv_file_path: str = \"data/evaluation_set.csv\") -> dict:\n",
    "    \"\"\"Loads evaluation data from a CSV file and returns questions and ground truths.\n",
    "\n",
    "    Args:\n",
    "        csv_file_path (str): The path to the CSV file containing the evaluation data.\n",
    "            The CSV should have columns named \"question\" and \"ground_truth\".\n",
    "\n",
    "    Returns:\n",
    "        dict: A dictionary containing:\n",
    "            - \"questions\": A list of questions.\n",
    "            - \"ground_truths\": A list of corresponding ground truth answers.\n",
    "    \"\"\"\n",
    "\n",
    "    df = pd.read_csv(csv_file_path)  # Read the CSV file\n",
    "    \n",
    "    # Check if required columns are present\n",
    "    if \"question\" not in df.columns or \"ground_truth\" not in df.columns:\n",
    "        raise ValueError(\"The CSV file must contain 'question' and 'ground_truth' columns.\")\n",
    "\n",
    "    questions = df[\"question\"].tolist()\n",
    "    ground_truths = df[\"ground_truth\"].tolist()\n",
    "\n",
    "    return {\"questions\": questions, \"ground_truths\": ground_truths}\n"
   ]
  },
  {
   "cell_type": "code",
   "execution_count": 2,
   "metadata": {},
   "outputs": [
    {
     "data": {
      "text/plain": [
       "{'questions': ['What upcoming animated project will feature Adam West and Burt Ward reprising their roles as Batman and Robin?',\n",
       "  'What animated project did Adam West and Burt Ward announce at the Mad Monster Party in Charlotte, NC?',\n",
       "  'What event is Rory McIlroy preparing for after the WGC-Cadillac Championship?',\n",
       "  'How did Donald Trump help Rory McIlroy retrieve his golf club?',\n",
       "  'What caused the collapse of the Iraqi army during the ISIS offensive in 2014?'],\n",
       " 'ground_truths': [\"Adam West and Burt Ward will be reprising their roles as Batman and Robin in an upcoming animated 'Batman' full length, 90-minute feature, which will be released on the 50th anniversary of the 1960s Batman TV series.\",\n",
       "  \"Adam West and Burt Ward announced a new animated 'Batman' full length, 90-minute feature at the Mad Monster Party in Charlotte, NC.\",\n",
       "  'Rory McIlroy is preparing for the U.S. Masters at Augusta next month.',\n",
       "  'Donald Trump helped Rory McIlroy retrieve his golf club by getting a scuba diver to retrieve the 3-iron club from the lake at Doral. Trump presented the club to McIlroy before his final round and told him that it was unlucky to continue playing with 13 clubs. McIlroy promised to return the club to Trump after the round.',\n",
       "  \"The collapse of the Iraqi army during the ISIS offensive in 2014 was caused by several factors, including the disbandment of the Iraqi army by the U.S.-led Coalition Provisional Authority in 2003, the slow training of Iraqi police due to the growing insurgency, the creation of an unwieldy and corrupt security forces that prioritized loyalty to political leaders over competence, the integration of Shia militia into army units, the phenomenon of 'ghost soldiers' who were still being paid despite being dead or AWOL, and the lack of effective oversight on military appointments. These factors weakened the army and made it vulnerable to the speed, discipline, and ruthlessness of ISIS fighters, as well as their cultivation of allies among members of Sunni tribes.\"]}"
      ]
     },
     "execution_count": 2,
     "metadata": {},
     "output_type": "execute_result"
    }
   ],
   "source": [
    "load_evaluation_data()"
   ]
  },
  {
   "cell_type": "code",
   "execution_count": null,
   "metadata": {},
   "outputs": [],
   "source": []
  }
 ],
 "metadata": {
  "kernelspec": {
   "display_name": "rag-optimization-cnn-dailymail-hiPg4Kip-py3.10",
   "language": "python",
   "name": "python3"
  },
  "language_info": {
   "codemirror_mode": {
    "name": "ipython",
    "version": 3
   },
   "file_extension": ".py",
   "mimetype": "text/x-python",
   "name": "python",
   "nbconvert_exporter": "python",
   "pygments_lexer": "ipython3",
   "version": "3.10.12"
  }
 },
 "nbformat": 4,
 "nbformat_minor": 2
}
